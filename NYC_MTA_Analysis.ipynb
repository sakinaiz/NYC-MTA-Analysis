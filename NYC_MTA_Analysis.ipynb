{
 "cells": [
  {
   "cell_type": "markdown",
   "metadata": {},
   "source": [
    "# load the libraries"
   ]
  },
  {
   "cell_type": "code",
   "execution_count": 84,
   "metadata": {},
   "outputs": [],
   "source": [
    "import numpy as np\n",
    "import pandas as pd\n",
    "\n",
    "import datetime as dt\n",
    "\n",
    "import matplotlib.pyplot as plt\n",
    "\n",
    "from matplotlib.dates import MO, WeekdayLocator, DateFormatter\n",
    "%matplotlib inline"
   ]
  },
  {
   "cell_type": "markdown",
   "metadata": {},
   "source": [
    "# Download a few turnstile data from http://web.mta.info/developers/turnstile.html and read them into a pandas dataframe "
   ]
  },
  {
   "cell_type": "code",
   "execution_count": 2,
   "metadata": {},
   "outputs": [
    {
     "name": "stdout",
     "output_type": "stream",
     "text": [
      "Writing file turnstile_data/turnstile_170902.txt\n",
      "Writing file turnstile_data/turnstile_170909.txt\n",
      "Writing file turnstile_data/turnstile_170916.txt\n",
      "Writing file turnstile_data/turnstile_170923.txt\n",
      "Writing file turnstile_data/turnstile_170930.txt\n",
      "Writing file turnstile_data/turnstile_171007.txt\n",
      "Writing file turnstile_data/turnstile_171014.txt\n",
      "Writing file turnstile_data/turnstile_171021.txt\n",
      "Writing file turnstile_data/turnstile_171028.txt\n"
     ]
    }
   ],
   "source": [
    "## download files from MTA website\n",
    "mta_url = 'http://web.mta.info/developers/data/nyct/turnstile/turnstile_'\n",
    "# define the start and end dates to acquire the data\n",
    "date_fmt = '%y%m%d' \n",
    "end = '171028'\n",
    "start = '170902'\n",
    "\n",
    "# convert them into datetime objects\n",
    "start_dt = dt.datetime.strptime(start, date_fmt)\n",
    "end_dt = dt.datetime.strptime(end, date_fmt)\n",
    "\n",
    "# get the turnstile data between these dates and write them to local directory\n",
    "while start_dt<=end_dt:\n",
    "    filename = start_dt.strftime(date_fmt)+'.txt'\n",
    "    urlname = mta_url+filename \n",
    "    pd.read_csv(urlname).to_csv('turnstile_data/turnstile_'+filename, index=False)\n",
    "    print('Writing file turnstile_data/turnstile_{}'.format(filename))\n",
    "    #increment the date by 7 days for the next file\n",
    "    start_dt += dt.timedelta(days=7)"
   ]
  },
  {
   "cell_type": "code",
   "execution_count": 2,
   "metadata": {},
   "outputs": [],
   "source": [
    "# define the start and end dates to acquire the data\n",
    "# taking one month data for this analysis\n",
    "date_fmt = '%y%m%d' \n",
    "end = '171028'\n",
    "start = '170902'\n",
    "\n",
    "# convert them into datetime objects\n",
    "start_dt = dt.datetime.strptime(start, date_fmt)\n",
    "end_dt = dt.datetime.strptime(end, date_fmt)\n",
    "\n",
    "# get the turnstile data between these dates\n",
    "data_folder = 'turnstile_data/turnstile_'\n",
    "turnstile_list = []\n",
    "while start_dt<=end_dt:\n",
    "    filename = data_folder+start_dt.strftime(date_fmt)+'.txt'   \n",
    "    turnstile_list.append(pd.read_csv(filename))\n",
    "    #increment the date by 7 days for the next file\n",
    "    start_dt += dt.timedelta(days=7)\n",
    "\n",
    "# concatenate all the dataframes\n",
    "turnstile_df = pd.concat(turnstile_list, ignore_index=True)\n",
    "\n",
    "# delete variables not needed\n",
    "del turnstile_list[:] "
   ]
  },
  {
   "cell_type": "code",
   "execution_count": 3,
   "metadata": {},
   "outputs": [
    {
     "name": "stdout",
     "output_type": "stream",
     "text": [
      "<class 'pandas.core.frame.DataFrame'>\n",
      "RangeIndex: 1781548 entries, 0 to 1781547\n",
      "Data columns (total 11 columns):\n",
      "C/A                                                                     object\n",
      "UNIT                                                                    object\n",
      "SCP                                                                     object\n",
      "STATION                                                                 object\n",
      "LINENAME                                                                object\n",
      "DIVISION                                                                object\n",
      "DATE                                                                    object\n",
      "TIME                                                                    object\n",
      "DESC                                                                    object\n",
      "ENTRIES                                                                 int64\n",
      "EXITS                                                                   int64\n",
      "dtypes: int64(2), object(9)\n",
      "memory usage: 149.5+ MB\n"
     ]
    }
   ],
   "source": [
    "turnstile_df.info()"
   ]
  },
  {
   "cell_type": "markdown",
   "metadata": {},
   "source": [
    "# Clean the data"
   ]
  },
  {
   "cell_type": "code",
   "execution_count": 4,
   "metadata": {},
   "outputs": [],
   "source": [
    "# remove blank spaces from column names\n",
    "turnstile_df.rename(columns=lambda x:x.strip(), inplace=True)"
   ]
  },
  {
   "cell_type": "code",
   "execution_count": 5,
   "metadata": {},
   "outputs": [],
   "source": [
    "# add a column which combines the DATE and TIME columns into a Pandas Datetime object\n",
    "turnstile_df['DATETIME'] = pd.to_datetime(turnstile_df['DATE']+' '+turnstile_df['TIME'], \n",
    "                                       format='%m/%d/%Y %H:%M:%S')\n",
    "turnstile_df['DATE'] = pd.to_datetime(turnstile_df['DATE'], \n",
    "                                       format='%m/%d/%Y').dt.date\n",
    "turnstile_df['TIME'] = pd.to_datetime(turnstile_df['TIME'], \n",
    "                                       format='%H:%M:%S').dt.time"
   ]
  },
  {
   "cell_type": "code",
   "execution_count": 6,
   "metadata": {},
   "outputs": [],
   "source": [
    "# Update the LINENAME column by sorting the line names so that different combinations are the same\n",
    "turnstile_df['LINENAME'] = [''.join(sorted(lname)) for lname in turnstile_df['LINENAME']]\n",
    "# strip any blank spaces from STATION name\n",
    "turnstile_df['STATION'] = [station.strip() for station in turnstile_df['STATION']]\n",
    "# create new station ID\n",
    "turnstile_df['STATION_ID'] = turnstile_df['STATION']+'_'+turnstile_df['LINENAME']"
   ]
  },
  {
   "cell_type": "code",
   "execution_count": 7,
   "metadata": {},
   "outputs": [],
   "source": [
    "# sort the turnstile dataframes\n",
    "turnstile_df.sort_values([\"STATION_ID\", \"C/A\", \"UNIT\", \"SCP\", \"DATETIME\"], \n",
    "                          inplace=True, ascending=True)"
   ]
  },
  {
   "cell_type": "code",
   "execution_count": 8,
   "metadata": {},
   "outputs": [
    {
     "data": {
      "text/html": [
       "<div>\n",
       "<style scoped>\n",
       "    .dataframe tbody tr th:only-of-type {\n",
       "        vertical-align: middle;\n",
       "    }\n",
       "\n",
       "    .dataframe tbody tr th {\n",
       "        vertical-align: top;\n",
       "    }\n",
       "\n",
       "    .dataframe thead th {\n",
       "        text-align: right;\n",
       "    }\n",
       "</style>\n",
       "<table border=\"1\" class=\"dataframe\">\n",
       "  <thead>\n",
       "    <tr style=\"text-align: right;\">\n",
       "      <th></th>\n",
       "      <th>C/A</th>\n",
       "      <th>UNIT</th>\n",
       "      <th>SCP</th>\n",
       "      <th>STATION</th>\n",
       "      <th>LINENAME</th>\n",
       "      <th>DIVISION</th>\n",
       "      <th>DATE</th>\n",
       "      <th>TIME</th>\n",
       "      <th>DESC</th>\n",
       "      <th>ENTRIES</th>\n",
       "      <th>EXITS</th>\n",
       "      <th>DATETIME</th>\n",
       "      <th>STATION_ID</th>\n",
       "    </tr>\n",
       "  </thead>\n",
       "  <tbody>\n",
       "    <tr>\n",
       "      <th>29220</th>\n",
       "      <td>H007</td>\n",
       "      <td>R248</td>\n",
       "      <td>00-00-00</td>\n",
       "      <td>1 AV</td>\n",
       "      <td>L</td>\n",
       "      <td>BMT</td>\n",
       "      <td>2017-08-26</td>\n",
       "      <td>00:00:00</td>\n",
       "      <td>REGULAR</td>\n",
       "      <td>12656485</td>\n",
       "      <td>14017760</td>\n",
       "      <td>2017-08-26 00:00:00</td>\n",
       "      <td>1 AV_L</td>\n",
       "    </tr>\n",
       "    <tr>\n",
       "      <th>29221</th>\n",
       "      <td>H007</td>\n",
       "      <td>R248</td>\n",
       "      <td>00-00-00</td>\n",
       "      <td>1 AV</td>\n",
       "      <td>L</td>\n",
       "      <td>BMT</td>\n",
       "      <td>2017-08-26</td>\n",
       "      <td>04:00:00</td>\n",
       "      <td>REGULAR</td>\n",
       "      <td>12656566</td>\n",
       "      <td>14018068</td>\n",
       "      <td>2017-08-26 04:00:00</td>\n",
       "      <td>1 AV_L</td>\n",
       "    </tr>\n",
       "    <tr>\n",
       "      <th>29222</th>\n",
       "      <td>H007</td>\n",
       "      <td>R248</td>\n",
       "      <td>00-00-00</td>\n",
       "      <td>1 AV</td>\n",
       "      <td>L</td>\n",
       "      <td>BMT</td>\n",
       "      <td>2017-08-26</td>\n",
       "      <td>08:00:00</td>\n",
       "      <td>REGULAR</td>\n",
       "      <td>12656649</td>\n",
       "      <td>14018379</td>\n",
       "      <td>2017-08-26 08:00:00</td>\n",
       "      <td>1 AV_L</td>\n",
       "    </tr>\n",
       "    <tr>\n",
       "      <th>29223</th>\n",
       "      <td>H007</td>\n",
       "      <td>R248</td>\n",
       "      <td>00-00-00</td>\n",
       "      <td>1 AV</td>\n",
       "      <td>L</td>\n",
       "      <td>BMT</td>\n",
       "      <td>2017-08-26</td>\n",
       "      <td>12:00:00</td>\n",
       "      <td>REGULAR</td>\n",
       "      <td>12657066</td>\n",
       "      <td>14019030</td>\n",
       "      <td>2017-08-26 12:00:00</td>\n",
       "      <td>1 AV_L</td>\n",
       "    </tr>\n",
       "    <tr>\n",
       "      <th>29224</th>\n",
       "      <td>H007</td>\n",
       "      <td>R248</td>\n",
       "      <td>00-00-00</td>\n",
       "      <td>1 AV</td>\n",
       "      <td>L</td>\n",
       "      <td>BMT</td>\n",
       "      <td>2017-08-26</td>\n",
       "      <td>16:00:00</td>\n",
       "      <td>REGULAR</td>\n",
       "      <td>12657715</td>\n",
       "      <td>14019973</td>\n",
       "      <td>2017-08-26 16:00:00</td>\n",
       "      <td>1 AV_L</td>\n",
       "    </tr>\n",
       "  </tbody>\n",
       "</table>\n",
       "</div>"
      ],
      "text/plain": [
       "        C/A  UNIT       SCP STATION LINENAME DIVISION        DATE      TIME  \\\n",
       "29220  H007  R248  00-00-00    1 AV        L      BMT  2017-08-26  00:00:00   \n",
       "29221  H007  R248  00-00-00    1 AV        L      BMT  2017-08-26  04:00:00   \n",
       "29222  H007  R248  00-00-00    1 AV        L      BMT  2017-08-26  08:00:00   \n",
       "29223  H007  R248  00-00-00    1 AV        L      BMT  2017-08-26  12:00:00   \n",
       "29224  H007  R248  00-00-00    1 AV        L      BMT  2017-08-26  16:00:00   \n",
       "\n",
       "          DESC   ENTRIES     EXITS            DATETIME STATION_ID  \n",
       "29220  REGULAR  12656485  14017760 2017-08-26 00:00:00     1 AV_L  \n",
       "29221  REGULAR  12656566  14018068 2017-08-26 04:00:00     1 AV_L  \n",
       "29222  REGULAR  12656649  14018379 2017-08-26 08:00:00     1 AV_L  \n",
       "29223  REGULAR  12657066  14019030 2017-08-26 12:00:00     1 AV_L  \n",
       "29224  REGULAR  12657715  14019973 2017-08-26 16:00:00     1 AV_L  "
      ]
     },
     "execution_count": 8,
     "metadata": {},
     "output_type": "execute_result"
    }
   ],
   "source": [
    "turnstile_df.head()"
   ]
  },
  {
   "cell_type": "code",
   "execution_count": 9,
   "metadata": {},
   "outputs": [
    {
     "name": "stdout",
     "output_type": "stream",
     "text": [
      "Number of unique stations: 468\n"
     ]
    }
   ],
   "source": [
    "print('Number of unique stations:', turnstile_df['STATION_ID'].nunique())"
   ]
  },
  {
   "cell_type": "code",
   "execution_count": 10,
   "metadata": {},
   "outputs": [],
   "source": [
    "# remove group 34 ST-PENN STA_123ACE since it doesn't exist\n",
    "grp = turnstile_df.groupby('STATION_ID', as_index=False, sort=False)\n",
    "turnstile_df.drop(grp.get_group('34 ST-PENN STA_123ACE').index, inplace=True)"
   ]
  },
  {
   "cell_type": "code",
   "execution_count": 11,
   "metadata": {},
   "outputs": [
    {
     "name": "stdout",
     "output_type": "stream",
     "text": [
      "Number of unique stations: 467\n"
     ]
    }
   ],
   "source": [
    "print('Number of unique stations:', turnstile_df['STATION_ID'].nunique())"
   ]
  },
  {
   "cell_type": "code",
   "execution_count": 12,
   "metadata": {},
   "outputs": [],
   "source": [
    "# remove duplicate turnstile counts\n",
    "key_columns = ['C/A', 'UNIT', 'SCP', 'STATION_ID', 'DATETIME']\n",
    "turnstile_df.drop_duplicates(subset=key_columns, inplace=True)"
   ]
  },
  {
   "cell_type": "code",
   "execution_count": 13,
   "metadata": {},
   "outputs": [
    {
     "data": {
      "text/plain": [
       "count                       380\n",
       "mean     0 days 03:58:06.315789\n",
       "std      0 days 00:17:57.820399\n",
       "min             0 days 00:23:00\n",
       "25%             0 days 04:00:00\n",
       "50%             0 days 04:00:00\n",
       "75%             0 days 04:00:00\n",
       "max             0 days 04:00:00\n",
       "Name: DATETIME, dtype: object"
      ]
     },
     "execution_count": 13,
     "metadata": {},
     "output_type": "execute_result"
    }
   ],
   "source": [
    "# selecting one of the turnstile data\n",
    "mask = ((turnstile_df['C/A']=='A002') & \n",
    "        (turnstile_df['UNIT']=='R051') & \n",
    "        (turnstile_df['SCP']=='02-00-00') & \n",
    "        (turnstile_df['STATION']=='59 ST') &\n",
    "        (turnstile_df['LINENAME']=='456NQRW'))\n",
    "# find the difference between consecutive date-times\n",
    "time_diff = turnstile_df[mask]['DATETIME'].diff(1)\n",
    "# get the mean time interval between two readings\n",
    "time_diff.describe()"
   ]
  },
  {
   "cell_type": "markdown",
   "metadata": {},
   "source": [
    "**The min, max, median and mean for this particular turnstile is 4 hours. Assuming similar behavior for all the turnstiles, the entry and exit counts are recorded every 4 hours.**"
   ]
  },
  {
   "cell_type": "code",
   "execution_count": 14,
   "metadata": {},
   "outputs": [
    {
     "data": {
      "text/plain": [
       "04:00:00    152265\n",
       "20:00:00    152261\n",
       "00:00:00    152237\n",
       "08:00:00    152216\n",
       "16:00:00    152189\n",
       "Name: TIME, dtype: int64"
      ]
     },
     "execution_count": 14,
     "metadata": {},
     "output_type": "execute_result"
    }
   ],
   "source": [
    "# check the times at which the counts are recorded\n",
    "turnstile_df['TIME'].value_counts().sort_values(ascending=False).head()"
   ]
  },
  {
   "cell_type": "code",
   "execution_count": 15,
   "metadata": {},
   "outputs": [
    {
     "data": {
      "text/plain": [
       "06:15:20    1\n",
       "11:18:07    1\n",
       "11:09:59    1\n",
       "17:12:08    1\n",
       "03:15:40    1\n",
       "Name: TIME, dtype: int64"
      ]
     },
     "execution_count": 15,
     "metadata": {},
     "output_type": "execute_result"
    }
   ],
   "source": [
    "# check the times at which the counts are recorded\n",
    "turnstile_df['TIME'].value_counts().sort_values(ascending=False).tail()"
   ]
  },
  {
   "cell_type": "markdown",
   "metadata": {},
   "source": [
    "**It looks like some of the recordings were not on the hour and from the low counts it can be inferred that they were not intended to be recorded. We will remove those rows from the dataframe**"
   ]
  },
  {
   "cell_type": "code",
   "execution_count": 16,
   "metadata": {},
   "outputs": [],
   "source": [
    "# discard rows which have readings not at the hour\n",
    "turnstile_df = turnstile_df[turnstile_df['DATETIME'].dt.floor(freq='H')==turnstile_df['DATETIME']]"
   ]
  },
  {
   "cell_type": "code",
   "execution_count": 17,
   "metadata": {},
   "outputs": [
    {
     "name": "stdout",
     "output_type": "stream",
     "text": [
      "<class 'pandas.core.frame.DataFrame'>\n",
      "Int64Index: 1614763 entries, 29220 to 1757545\n",
      "Data columns (total 13 columns):\n",
      "C/A           1614763 non-null object\n",
      "UNIT          1614763 non-null object\n",
      "SCP           1614763 non-null object\n",
      "STATION       1614763 non-null object\n",
      "LINENAME      1614763 non-null object\n",
      "DIVISION      1614763 non-null object\n",
      "DATE          1614763 non-null object\n",
      "TIME          1614763 non-null object\n",
      "DESC          1614763 non-null object\n",
      "ENTRIES       1614763 non-null int64\n",
      "EXITS         1614763 non-null int64\n",
      "DATETIME      1614763 non-null datetime64[ns]\n",
      "STATION_ID    1614763 non-null object\n",
      "dtypes: datetime64[ns](1), int64(2), object(10)\n",
      "memory usage: 172.5+ MB\n"
     ]
    }
   ],
   "source": [
    "turnstile_df.info()"
   ]
  },
  {
   "cell_type": "markdown",
   "metadata": {},
   "source": [
    "# Check the entry and exit counts"
   ]
  },
  {
   "cell_type": "code",
   "execution_count": 18,
   "metadata": {},
   "outputs": [],
   "source": [
    "# selecting one of the turnstile data\n",
    "mask = ((turnstile_df['C/A']=='A002') & \n",
    "        (turnstile_df['UNIT']=='R051') & \n",
    "        (turnstile_df['SCP']=='02-00-00') & \n",
    "        (turnstile_df['STATION']=='59 ST') &\n",
    "        (turnstile_df['LINENAME']=='456NQRW'))"
   ]
  },
  {
   "cell_type": "code",
   "execution_count": 19,
   "metadata": {},
   "outputs": [
    {
     "data": {
      "image/png": "[encoded data removed]",
      "text/plain": [
       "<matplotlib.figure.Figure at 0x1092f4320>"
      ]
     },
     "metadata": {},
     "output_type": "display_data"
    }
   ],
   "source": [
    "plt.figure(figsize=(15,3));\n",
    "plt.plot(turnstile_df[mask]['DATETIME'], turnstile_df[mask]['ENTRIES']);\n",
    "plt.xlabel('Date');\n",
    "plt.ylabel('Count');\n",
    "plt.title('Entry count per day for an example turnstile');"
   ]
  },
  {
   "cell_type": "code",
   "execution_count": 20,
   "metadata": {},
   "outputs": [
    {
     "data": {
      "image/png": "[encoded data removed]",
      "text/plain": [
       "<matplotlib.figure.Figure at 0x1058d5c88>"
      ]
     },
     "metadata": {},
     "output_type": "display_data"
    }
   ],
   "source": [
    "plt.figure(figsize=(15,3));\n",
    "plt.plot(turnstile_df[mask]['DATETIME'], turnstile_df[mask]['EXITS']);\n",
    "plt.xlabel('Date');\n",
    "plt.ylabel('Count');\n",
    "plt.title('Entry count per day for an example turnstile');"
   ]
  },
  {
   "cell_type": "markdown",
   "metadata": {},
   "source": [
    "**From the above plots the ENTRIES (and EXITS) count increases with time. This shows that the ENTRIES (and EXITS) counts are cumulative ENTRY (and EXIT) register values for a device. This register was initialized during system setup.**"
   ]
  },
  {
   "cell_type": "code",
   "execution_count": 21,
   "metadata": {},
   "outputs": [],
   "source": [
    "# columns which uniquely identify a turnstile\n",
    "turnstile_key = ['C/A', 'UNIT', 'SCP', 'STATION_ID']\n",
    "# group by turnstile and find the size of each group\n",
    "turnstile_grp = turnstile_df.groupby(turnstile_key, as_index=False, sort=False)\n",
    "# discard turnstiles which have less than 4 readings \n",
    "turnstile_df = turnstile_grp.filter(lambda x: len(x) >= 3)"
   ]
  },
  {
   "cell_type": "code",
   "execution_count": 22,
   "metadata": {},
   "outputs": [
    {
     "name": "stderr",
     "output_type": "stream",
     "text": [
      "/Users/sakina/.local/lib/python3.6/site-packages/ipykernel_launcher.py:4: SettingWithCopyWarning: \n",
      "A value is trying to be set on a copy of a slice from a DataFrame.\n",
      "Try using .loc[row_indexer,col_indexer] = value instead\n",
      "\n",
      "See the caveats in the documentation: http://pandas.pydata.org/pandas-docs/stable/indexing.html#indexing-view-versus-copy\n",
      "  after removing the cwd from sys.path.\n",
      "/Users/sakina/.local/lib/python3.6/site-packages/ipykernel_launcher.py:6: SettingWithCopyWarning: \n",
      "A value is trying to be set on a copy of a slice from a DataFrame.\n",
      "Try using .loc[row_indexer,col_indexer] = value instead\n",
      "\n",
      "See the caveats in the documentation: http://pandas.pydata.org/pandas-docs/stable/indexing.html#indexing-view-versus-copy\n",
      "  \n"
     ]
    }
   ],
   "source": [
    "# columns which uniquely identify a turnstile\n",
    "turnstile_key = ['C/A', 'UNIT', 'SCP', 'STATION_ID']\n",
    "# create a new column which holds the ENTRIES value at the previous timestamp\n",
    "turnstile_df['PREV_ENTRIES'] = turnstile_df.groupby(turnstile_key, as_index=False, sort=False)['ENTRIES'].shift(1)\n",
    "# create a new column which holds the EXITS value at the previous timestamp\n",
    "turnstile_df['PREV_EXITS'] = turnstile_df.groupby(turnstile_key, as_index=False, sort=False)['EXITS'].shift(1)"
   ]
  },
  {
   "cell_type": "code",
   "execution_count": 23,
   "metadata": {},
   "outputs": [
    {
     "name": "stdout",
     "output_type": "stream",
     "text": [
      "13752 rows have the counter counting down for ENTRIES column\n"
     ]
    }
   ],
   "source": [
    "# find rows where previous entry is not less than current entry\n",
    "rev_mask = turnstile_df['ENTRIES']<turnstile_df['PREV_ENTRIES']\n",
    "print('{} rows have the counter counting down for ENTRIES column'.format(rev_mask.sum()))"
   ]
  },
  {
   "cell_type": "markdown",
   "metadata": {},
   "source": [
    "# get the entry/exit count for each time interval"
   ]
  },
  {
   "cell_type": "code",
   "execution_count": 24,
   "metadata": {},
   "outputs": [],
   "source": [
    "# function to get the entry count given the cumulative entry at current time and at previous time \n",
    "def getTurnstileCount(cumulative_tuple):\n",
    "    current, previous = cumulative_tuple\n",
    "    return abs(current - previous) # taking absolute value to account for counters counting down"
   ]
  },
  {
   "cell_type": "code",
   "execution_count": 25,
   "metadata": {},
   "outputs": [
    {
     "name": "stderr",
     "output_type": "stream",
     "text": [
      "/Users/sakina/.local/lib/python3.6/site-packages/ipykernel_launcher.py:4: SettingWithCopyWarning: \n",
      "A value is trying to be set on a copy of a slice from a DataFrame.\n",
      "Try using .loc[row_indexer,col_indexer] = value instead\n",
      "\n",
      "See the caveats in the documentation: http://pandas.pydata.org/pandas-docs/stable/indexing.html#indexing-view-versus-copy\n",
      "  after removing the cwd from sys.path.\n"
     ]
    },
    {
     "data": {
      "text/html": [
       "<div>\n",
       "<style scoped>\n",
       "    .dataframe tbody tr th:only-of-type {\n",
       "        vertical-align: middle;\n",
       "    }\n",
       "\n",
       "    .dataframe tbody tr th {\n",
       "        vertical-align: top;\n",
       "    }\n",
       "\n",
       "    .dataframe thead th {\n",
       "        text-align: right;\n",
       "    }\n",
       "</style>\n",
       "<table border=\"1\" class=\"dataframe\">\n",
       "  <thead>\n",
       "    <tr style=\"text-align: right;\">\n",
       "      <th></th>\n",
       "      <th>C/A</th>\n",
       "      <th>UNIT</th>\n",
       "      <th>SCP</th>\n",
       "      <th>STATION</th>\n",
       "      <th>LINENAME</th>\n",
       "      <th>DATE</th>\n",
       "      <th>TIME</th>\n",
       "      <th>DATETIME</th>\n",
       "      <th>STATION_ID</th>\n",
       "      <th>ENTRY_COUNT</th>\n",
       "    </tr>\n",
       "  </thead>\n",
       "  <tbody>\n",
       "    <tr>\n",
       "      <th>29221</th>\n",
       "      <td>H007</td>\n",
       "      <td>R248</td>\n",
       "      <td>00-00-00</td>\n",
       "      <td>1 AV</td>\n",
       "      <td>L</td>\n",
       "      <td>2017-08-26</td>\n",
       "      <td>04:00:00</td>\n",
       "      <td>2017-08-26 04:00:00</td>\n",
       "      <td>1 AV_L</td>\n",
       "      <td>81.0</td>\n",
       "    </tr>\n",
       "    <tr>\n",
       "      <th>29222</th>\n",
       "      <td>H007</td>\n",
       "      <td>R248</td>\n",
       "      <td>00-00-00</td>\n",
       "      <td>1 AV</td>\n",
       "      <td>L</td>\n",
       "      <td>2017-08-26</td>\n",
       "      <td>08:00:00</td>\n",
       "      <td>2017-08-26 08:00:00</td>\n",
       "      <td>1 AV_L</td>\n",
       "      <td>83.0</td>\n",
       "    </tr>\n",
       "    <tr>\n",
       "      <th>29223</th>\n",
       "      <td>H007</td>\n",
       "      <td>R248</td>\n",
       "      <td>00-00-00</td>\n",
       "      <td>1 AV</td>\n",
       "      <td>L</td>\n",
       "      <td>2017-08-26</td>\n",
       "      <td>12:00:00</td>\n",
       "      <td>2017-08-26 12:00:00</td>\n",
       "      <td>1 AV_L</td>\n",
       "      <td>417.0</td>\n",
       "    </tr>\n",
       "    <tr>\n",
       "      <th>29224</th>\n",
       "      <td>H007</td>\n",
       "      <td>R248</td>\n",
       "      <td>00-00-00</td>\n",
       "      <td>1 AV</td>\n",
       "      <td>L</td>\n",
       "      <td>2017-08-26</td>\n",
       "      <td>16:00:00</td>\n",
       "      <td>2017-08-26 16:00:00</td>\n",
       "      <td>1 AV_L</td>\n",
       "      <td>649.0</td>\n",
       "    </tr>\n",
       "    <tr>\n",
       "      <th>29225</th>\n",
       "      <td>H007</td>\n",
       "      <td>R248</td>\n",
       "      <td>00-00-00</td>\n",
       "      <td>1 AV</td>\n",
       "      <td>L</td>\n",
       "      <td>2017-08-26</td>\n",
       "      <td>20:00:00</td>\n",
       "      <td>2017-08-26 20:00:00</td>\n",
       "      <td>1 AV_L</td>\n",
       "      <td>428.0</td>\n",
       "    </tr>\n",
       "  </tbody>\n",
       "</table>\n",
       "</div>"
      ],
      "text/plain": [
       "        C/A  UNIT       SCP STATION LINENAME        DATE      TIME  \\\n",
       "29221  H007  R248  00-00-00    1 AV        L  2017-08-26  04:00:00   \n",
       "29222  H007  R248  00-00-00    1 AV        L  2017-08-26  08:00:00   \n",
       "29223  H007  R248  00-00-00    1 AV        L  2017-08-26  12:00:00   \n",
       "29224  H007  R248  00-00-00    1 AV        L  2017-08-26  16:00:00   \n",
       "29225  H007  R248  00-00-00    1 AV        L  2017-08-26  20:00:00   \n",
       "\n",
       "                 DATETIME STATION_ID  ENTRY_COUNT  \n",
       "29221 2017-08-26 04:00:00     1 AV_L         81.0  \n",
       "29222 2017-08-26 08:00:00     1 AV_L         83.0  \n",
       "29223 2017-08-26 12:00:00     1 AV_L        417.0  \n",
       "29224 2017-08-26 16:00:00     1 AV_L        649.0  \n",
       "29225 2017-08-26 20:00:00     1 AV_L        428.0  "
      ]
     },
     "execution_count": 25,
     "metadata": {},
     "output_type": "execute_result"
    }
   ],
   "source": [
    "# remove rows which have missing values in the PREV_ENTRIES caused by the shifting\n",
    "turnstile_entry_df = turnstile_df.dropna(subset=['PREV_ENTRIES'])\n",
    "# get the entry count for each time stamp\n",
    "turnstile_entry_df['ENTRY_COUNT'] = turnstile_entry_df[['ENTRIES', 'PREV_ENTRIES']].\\\n",
    "                                    apply(getTurnstileCount, axis=1)\n",
    "\n",
    "# set the cutoff value for the entry count to be the 99.9% quantile. Remove the rows containing outliers\n",
    "q999_entry = turnstile_entry_df['ENTRY_COUNT'].quantile(0.999) # 99.9% quantile\n",
    "turnstile_entry_df = turnstile_entry_df[turnstile_entry_df['ENTRY_COUNT']<=q999_entry].copy()\n",
    "\n",
    "#delete columns\n",
    "turnstile_entry_df.drop(['DIVISION', 'DESC', 'ENTRIES', 'PREV_ENTRIES', 'EXITS', 'PREV_EXITS'], axis=1, inplace=True)\n",
    "\n",
    "turnstile_entry_df.head()"
   ]
  },
  {
   "cell_type": "code",
   "execution_count": 26,
   "metadata": {},
   "outputs": [
    {
     "name": "stderr",
     "output_type": "stream",
     "text": [
      "/Users/sakina/.local/lib/python3.6/site-packages/ipykernel_launcher.py:4: SettingWithCopyWarning: \n",
      "A value is trying to be set on a copy of a slice from a DataFrame.\n",
      "Try using .loc[row_indexer,col_indexer] = value instead\n",
      "\n",
      "See the caveats in the documentation: http://pandas.pydata.org/pandas-docs/stable/indexing.html#indexing-view-versus-copy\n",
      "  after removing the cwd from sys.path.\n"
     ]
    },
    {
     "data": {
      "text/html": [
       "<div>\n",
       "<style scoped>\n",
       "    .dataframe tbody tr th:only-of-type {\n",
       "        vertical-align: middle;\n",
       "    }\n",
       "\n",
       "    .dataframe tbody tr th {\n",
       "        vertical-align: top;\n",
       "    }\n",
       "\n",
       "    .dataframe thead th {\n",
       "        text-align: right;\n",
       "    }\n",
       "</style>\n",
       "<table border=\"1\" class=\"dataframe\">\n",
       "  <thead>\n",
       "    <tr style=\"text-align: right;\">\n",
       "      <th></th>\n",
       "      <th>C/A</th>\n",
       "      <th>UNIT</th>\n",
       "      <th>SCP</th>\n",
       "      <th>STATION</th>\n",
       "      <th>LINENAME</th>\n",
       "      <th>DATE</th>\n",
       "      <th>TIME</th>\n",
       "      <th>DATETIME</th>\n",
       "      <th>STATION_ID</th>\n",
       "      <th>EXIT_COUNT</th>\n",
       "    </tr>\n",
       "  </thead>\n",
       "  <tbody>\n",
       "    <tr>\n",
       "      <th>29221</th>\n",
       "      <td>H007</td>\n",
       "      <td>R248</td>\n",
       "      <td>00-00-00</td>\n",
       "      <td>1 AV</td>\n",
       "      <td>L</td>\n",
       "      <td>2017-08-26</td>\n",
       "      <td>04:00:00</td>\n",
       "      <td>2017-08-26 04:00:00</td>\n",
       "      <td>1 AV_L</td>\n",
       "      <td>308.0</td>\n",
       "    </tr>\n",
       "    <tr>\n",
       "      <th>29222</th>\n",
       "      <td>H007</td>\n",
       "      <td>R248</td>\n",
       "      <td>00-00-00</td>\n",
       "      <td>1 AV</td>\n",
       "      <td>L</td>\n",
       "      <td>2017-08-26</td>\n",
       "      <td>08:00:00</td>\n",
       "      <td>2017-08-26 08:00:00</td>\n",
       "      <td>1 AV_L</td>\n",
       "      <td>311.0</td>\n",
       "    </tr>\n",
       "    <tr>\n",
       "      <th>29223</th>\n",
       "      <td>H007</td>\n",
       "      <td>R248</td>\n",
       "      <td>00-00-00</td>\n",
       "      <td>1 AV</td>\n",
       "      <td>L</td>\n",
       "      <td>2017-08-26</td>\n",
       "      <td>12:00:00</td>\n",
       "      <td>2017-08-26 12:00:00</td>\n",
       "      <td>1 AV_L</td>\n",
       "      <td>651.0</td>\n",
       "    </tr>\n",
       "    <tr>\n",
       "      <th>29224</th>\n",
       "      <td>H007</td>\n",
       "      <td>R248</td>\n",
       "      <td>00-00-00</td>\n",
       "      <td>1 AV</td>\n",
       "      <td>L</td>\n",
       "      <td>2017-08-26</td>\n",
       "      <td>16:00:00</td>\n",
       "      <td>2017-08-26 16:00:00</td>\n",
       "      <td>1 AV_L</td>\n",
       "      <td>943.0</td>\n",
       "    </tr>\n",
       "    <tr>\n",
       "      <th>29225</th>\n",
       "      <td>H007</td>\n",
       "      <td>R248</td>\n",
       "      <td>00-00-00</td>\n",
       "      <td>1 AV</td>\n",
       "      <td>L</td>\n",
       "      <td>2017-08-26</td>\n",
       "      <td>20:00:00</td>\n",
       "      <td>2017-08-26 20:00:00</td>\n",
       "      <td>1 AV_L</td>\n",
       "      <td>1061.0</td>\n",
       "    </tr>\n",
       "  </tbody>\n",
       "</table>\n",
       "</div>"
      ],
      "text/plain": [
       "        C/A  UNIT       SCP STATION LINENAME        DATE      TIME  \\\n",
       "29221  H007  R248  00-00-00    1 AV        L  2017-08-26  04:00:00   \n",
       "29222  H007  R248  00-00-00    1 AV        L  2017-08-26  08:00:00   \n",
       "29223  H007  R248  00-00-00    1 AV        L  2017-08-26  12:00:00   \n",
       "29224  H007  R248  00-00-00    1 AV        L  2017-08-26  16:00:00   \n",
       "29225  H007  R248  00-00-00    1 AV        L  2017-08-26  20:00:00   \n",
       "\n",
       "                 DATETIME STATION_ID  EXIT_COUNT  \n",
       "29221 2017-08-26 04:00:00     1 AV_L       308.0  \n",
       "29222 2017-08-26 08:00:00     1 AV_L       311.0  \n",
       "29223 2017-08-26 12:00:00     1 AV_L       651.0  \n",
       "29224 2017-08-26 16:00:00     1 AV_L       943.0  \n",
       "29225 2017-08-26 20:00:00     1 AV_L      1061.0  "
      ]
     },
     "execution_count": 26,
     "metadata": {},
     "output_type": "execute_result"
    }
   ],
   "source": [
    "# remove rows which have missing values in the PREV_EXITS caused by the shifting\n",
    "turnstile_exit_df = turnstile_df.dropna(subset=['PREV_EXITS'])\n",
    "# get the exit count for each time stamp\n",
    "turnstile_exit_df['EXIT_COUNT'] = turnstile_exit_df[['EXITS', 'PREV_EXITS']].apply(getTurnstileCount, axis=1)\n",
    "\n",
    "# set the cutoff value for the exit count to be the 99.9% quantile. Remove the rows containing outliers\n",
    "q999_exit = turnstile_exit_df['EXIT_COUNT'].quantile(0.999) # 99.9% quantile\n",
    "turnstile_exit_df = turnstile_exit_df[turnstile_exit_df['EXIT_COUNT']<=q999_exit] \n",
    "\n",
    "#delete columns\n",
    "turnstile_exit_df.drop(['DIVISION', 'DESC', 'ENTRIES', 'PREV_ENTRIES', 'EXITS', 'PREV_EXITS'], axis=1, inplace=True)\n",
    "\n",
    "turnstile_exit_df.head()"
   ]
  },
  {
   "cell_type": "code",
   "execution_count": 27,
   "metadata": {},
   "outputs": [
    {
     "data": {
      "text/plain": [
       "((1614759, 15), (1608838, 10), (1608836, 10))"
      ]
     },
     "execution_count": 27,
     "metadata": {},
     "output_type": "execute_result"
    }
   ],
   "source": [
    "(turnstile_df.shape, turnstile_entry_df.shape, turnstile_exit_df.shape)"
   ]
  },
  {
   "cell_type": "code",
   "execution_count": 28,
   "metadata": {
    "scrolled": true
   },
   "outputs": [
    {
     "data": {
      "text/html": [
       "<div>\n",
       "<style scoped>\n",
       "    .dataframe tbody tr th:only-of-type {\n",
       "        vertical-align: middle;\n",
       "    }\n",
       "\n",
       "    .dataframe tbody tr th {\n",
       "        vertical-align: top;\n",
       "    }\n",
       "\n",
       "    .dataframe thead th {\n",
       "        text-align: right;\n",
       "    }\n",
       "</style>\n",
       "<table border=\"1\" class=\"dataframe\">\n",
       "  <thead>\n",
       "    <tr style=\"text-align: right;\">\n",
       "      <th></th>\n",
       "      <th>C/A</th>\n",
       "      <th>UNIT</th>\n",
       "      <th>SCP</th>\n",
       "      <th>STATION</th>\n",
       "      <th>LINENAME</th>\n",
       "      <th>DATE</th>\n",
       "      <th>TIME</th>\n",
       "      <th>DATETIME</th>\n",
       "      <th>STATION_ID</th>\n",
       "      <th>ENTRY_COUNT</th>\n",
       "      <th>EXIT_COUNT</th>\n",
       "    </tr>\n",
       "  </thead>\n",
       "  <tbody>\n",
       "    <tr>\n",
       "      <th>29221</th>\n",
       "      <td>H007</td>\n",
       "      <td>R248</td>\n",
       "      <td>00-00-00</td>\n",
       "      <td>1 AV</td>\n",
       "      <td>L</td>\n",
       "      <td>2017-08-26</td>\n",
       "      <td>04:00:00</td>\n",
       "      <td>2017-08-26 04:00:00</td>\n",
       "      <td>1 AV_L</td>\n",
       "      <td>81.0</td>\n",
       "      <td>308.0</td>\n",
       "    </tr>\n",
       "    <tr>\n",
       "      <th>29222</th>\n",
       "      <td>H007</td>\n",
       "      <td>R248</td>\n",
       "      <td>00-00-00</td>\n",
       "      <td>1 AV</td>\n",
       "      <td>L</td>\n",
       "      <td>2017-08-26</td>\n",
       "      <td>08:00:00</td>\n",
       "      <td>2017-08-26 08:00:00</td>\n",
       "      <td>1 AV_L</td>\n",
       "      <td>83.0</td>\n",
       "      <td>311.0</td>\n",
       "    </tr>\n",
       "    <tr>\n",
       "      <th>29223</th>\n",
       "      <td>H007</td>\n",
       "      <td>R248</td>\n",
       "      <td>00-00-00</td>\n",
       "      <td>1 AV</td>\n",
       "      <td>L</td>\n",
       "      <td>2017-08-26</td>\n",
       "      <td>12:00:00</td>\n",
       "      <td>2017-08-26 12:00:00</td>\n",
       "      <td>1 AV_L</td>\n",
       "      <td>417.0</td>\n",
       "      <td>651.0</td>\n",
       "    </tr>\n",
       "    <tr>\n",
       "      <th>29224</th>\n",
       "      <td>H007</td>\n",
       "      <td>R248</td>\n",
       "      <td>00-00-00</td>\n",
       "      <td>1 AV</td>\n",
       "      <td>L</td>\n",
       "      <td>2017-08-26</td>\n",
       "      <td>16:00:00</td>\n",
       "      <td>2017-08-26 16:00:00</td>\n",
       "      <td>1 AV_L</td>\n",
       "      <td>649.0</td>\n",
       "      <td>943.0</td>\n",
       "    </tr>\n",
       "    <tr>\n",
       "      <th>29225</th>\n",
       "      <td>H007</td>\n",
       "      <td>R248</td>\n",
       "      <td>00-00-00</td>\n",
       "      <td>1 AV</td>\n",
       "      <td>L</td>\n",
       "      <td>2017-08-26</td>\n",
       "      <td>20:00:00</td>\n",
       "      <td>2017-08-26 20:00:00</td>\n",
       "      <td>1 AV_L</td>\n",
       "      <td>428.0</td>\n",
       "      <td>1061.0</td>\n",
       "    </tr>\n",
       "  </tbody>\n",
       "</table>\n",
       "</div>"
      ],
      "text/plain": [
       "        C/A  UNIT       SCP STATION LINENAME        DATE      TIME  \\\n",
       "29221  H007  R248  00-00-00    1 AV        L  2017-08-26  04:00:00   \n",
       "29222  H007  R248  00-00-00    1 AV        L  2017-08-26  08:00:00   \n",
       "29223  H007  R248  00-00-00    1 AV        L  2017-08-26  12:00:00   \n",
       "29224  H007  R248  00-00-00    1 AV        L  2017-08-26  16:00:00   \n",
       "29225  H007  R248  00-00-00    1 AV        L  2017-08-26  20:00:00   \n",
       "\n",
       "                 DATETIME STATION_ID  ENTRY_COUNT  EXIT_COUNT  \n",
       "29221 2017-08-26 04:00:00     1 AV_L         81.0       308.0  \n",
       "29222 2017-08-26 08:00:00     1 AV_L         83.0       311.0  \n",
       "29223 2017-08-26 12:00:00     1 AV_L        417.0       651.0  \n",
       "29224 2017-08-26 16:00:00     1 AV_L        649.0       943.0  \n",
       "29225 2017-08-26 20:00:00     1 AV_L        428.0      1061.0  "
      ]
     },
     "execution_count": 28,
     "metadata": {},
     "output_type": "execute_result"
    }
   ],
   "source": [
    "# combine the entry and exit count into one dataframe\n",
    "turnstile_df = pd.concat([turnstile_entry_df, turnstile_exit_df['EXIT_COUNT']], axis=1, join='inner')\n",
    "\n",
    "turnstile_df.head()"
   ]
  },
  {
   "cell_type": "markdown",
   "metadata": {},
   "source": [
    "# look at the daily entry/exit trend for a station"
   ]
  },
  {
   "cell_type": "code",
   "execution_count": 29,
   "metadata": {},
   "outputs": [],
   "source": [
    "# find the daily entry count for each station across the whole timeframe\n",
    "station_key = ['STATION_ID', 'DATE']\n",
    "station_daily_df = (turnstile_df.groupby(station_key, sort=False, as_index=False)\n",
    "                    [['ENTRY_COUNT', 'EXIT_COUNT']].agg('sum'))\n",
    "station_daily_df.rename(columns={'ENTRY_COUNT':'DAILY_ENTRY_COUNT',\n",
    "                                 'EXIT_COUNT' :'DAILY_EXIT_COUNT'}, inplace=True)\n",
    "# choose a station\n",
    "df = station_daily_df[station_daily_df['STATION_ID']=='GRD CNTRL-42 ST_4567S']"
   ]
  },
  {
   "cell_type": "code",
   "execution_count": 30,
   "metadata": {},
   "outputs": [
    {
     "data": {
      "image/png": "[encoded data removed]",
      "text/plain": [
       "<matplotlib.figure.Figure at 0x10ebb10b8>"
      ]
     },
     "metadata": {},
     "output_type": "display_data"
    }
   ],
   "source": [
    "# plotting the daily entry counts for 1 station\n",
    "fig, ax = plt.subplots(1,1, figsize=(20,3))\n",
    "ax.plot(df['DATE'], df['DAILY_ENTRY_COUNT']);\n",
    "ax.set_title('Daily entry count for station GRD CNTRL-42 ST');\n",
    "ax.set_ylabel('Count');\n",
    "ax.xaxis.set_major_locator(WeekdayLocator(byweekday=MO))\n",
    "ax.xaxis.set_major_formatter(DateFormatter('%Y-%m-%d'))\n",
    "#fig.savefig('Daily Entries GrndCtrl.png', bbox_inches='tight')"
   ]
  },
  {
   "cell_type": "code",
   "execution_count": 31,
   "metadata": {},
   "outputs": [
    {
     "data": {
      "image/png": "[encoded data removed]",
      "text/plain": [
       "<matplotlib.figure.Figure at 0x10aab4320>"
      ]
     },
     "metadata": {},
     "output_type": "display_data"
    }
   ],
   "source": [
    "# plotting the daily exit counts for 1 station\n",
    "fig, ax = plt.subplots(1,1, figsize=(20,3))\n",
    "ax.plot(df['DATE'], df['DAILY_EXIT_COUNT']);\n",
    "ax.set_title('Daily exit count for station GRD CNTRL-42 ST');\n",
    "ax.set_ylabel('Count');\n",
    "ax.xaxis.set_major_locator(WeekdayLocator(byweekday=MO))\n",
    "ax.xaxis.set_major_formatter(DateFormatter('%Y-%m-%d'))"
   ]
  },
  {
   "cell_type": "code",
   "execution_count": 32,
   "metadata": {},
   "outputs": [
    {
     "name": "stderr",
     "output_type": "stream",
     "text": [
      "/Users/sakina/.local/lib/python3.6/site-packages/ipykernel_launcher.py:1: SettingWithCopyWarning: \n",
      "A value is trying to be set on a copy of a slice from a DataFrame.\n",
      "Try using .loc[row_indexer,col_indexer] = value instead\n",
      "\n",
      "See the caveats in the documentation: http://pandas.pydata.org/pandas-docs/stable/indexing.html#indexing-view-versus-copy\n",
      "  \"\"\"Entry point for launching an IPython kernel.\n"
     ]
    },
    {
     "data": {
      "image/png": "[encoded data removed]",
      "text/plain": [
       "<matplotlib.figure.Figure at 0x10780cf60>"
      ]
     },
     "metadata": {},
     "output_type": "display_data"
    }
   ],
   "source": [
    "df['DAILY_RIDER_COUNT'] = df['DAILY_ENTRY_COUNT'] + df['DAILY_EXIT_COUNT']\n",
    "fig, ax = plt.subplots(1,1, figsize=(20,3))\n",
    "ax.plot(df['DATE'], df['DAILY_RIDER_COUNT']);\n",
    "ax.set_title('Daily entry+exit count for station GRD CNTRL-42 ST');\n",
    "ax.set_ylabel('Count');\n",
    "ax.xaxis.set_major_locator(WeekdayLocator(byweekday=MO));\n",
    "ax.xaxis.set_major_formatter(DateFormatter('%Y-%m-%d'));"
   ]
  },
  {
   "cell_type": "markdown",
   "metadata": {},
   "source": [
    "# look at the weekday/weekend traffic"
   ]
  },
  {
   "cell_type": "markdown",
   "metadata": {},
   "source": [
    "**The median worker in the New York metropolitan area begins her workday at 8:24 a.m. There’s a buffer of about an hour on either side: 25 percent of the workforce has arrived by 7:28 a.m., while 75 percent has gotten in by 9:32.**"
   ]
  },
  {
   "cell_type": "code",
   "execution_count": 33,
   "metadata": {},
   "outputs": [],
   "source": [
    "def getTimeType(timestamp):\n",
    "    if (timestamp.hour >= dt.time(9).hour) & (timestamp.hour <= dt.time(12).hour): # includes 07:00 to 10:00\n",
    "        return 'MORNING'\n",
    "    elif (timestamp.hour >= dt.time(19).hour) & (timestamp.hour <= dt.time(21).hour): # include 16:00 to 19:00\n",
    "        return 'EVENING'\n",
    "    elif (timestamp.hour >= dt.time(1).hour) & (timestamp.hour <= dt.time(4).hour):\n",
    "        return 'LATE'\n",
    "    else:\n",
    "        return 'OTHER'"
   ]
  },
  {
   "cell_type": "code",
   "execution_count": 34,
   "metadata": {},
   "outputs": [],
   "source": [
    "# get the total entry counts for every station at every timestamp, \n",
    "# i.e, sum all the turnstile counts in a station at a timestamp\n",
    "station_key = ['STATION_ID', 'DATETIME']\n",
    "station_allturnstile_df = turnstile_df.groupby(station_key, sort=False, as_index=False)\\\n",
    "                                      [['ENTRY_COUNT', 'EXIT_COUNT']]\\\n",
    "                                      .agg('sum')\n",
    "# get weekday\n",
    "station_allturnstile_df['DOFW']     = station_allturnstile_df['DATETIME'].dt.weekday_name\n",
    "station_allturnstile_df['DOFW_NUM'] = station_allturnstile_df['DATETIME'].dt.weekday\n",
    "# classify as weekday/weekend\n",
    "station_allturnstile_df['IS_WKDY'] = station_allturnstile_df['DOFW_NUM'].apply(lambda x: 0 if x>4 else 1)\n",
    "# classify the time slot as morning/evening/late/other\n",
    "station_allturnstile_df['TIME_TYPE'] = station_allturnstile_df['DATETIME'].apply(getTimeType)\n",
    "# get date only\n",
    "station_allturnstile_df['DATE'] = station_allturnstile_df['DATETIME'].dt.date"
   ]
  },
  {
   "cell_type": "code",
   "execution_count": 36,
   "metadata": {},
   "outputs": [],
   "source": [
    "station_allturnstile_df['WKDY_COMMENTRY_COUNT'] = station_allturnstile_df['ENTRY_COUNT'] *\\\n",
    "                                                  station_allturnstile_df['IS_WKDY']*\\\n",
    "                                                  ((station_allturnstile_df['TIME_TYPE']=='MORNING')|\\\n",
    "                                                   (station_allturnstile_df['TIME_TYPE']=='EVENING'))\n",
    "station_allturnstile_df['WKDY_COMMEXIT_COUNT']  = station_allturnstile_df['EXIT_COUNT'] *\\\n",
    "                                                  station_allturnstile_df['IS_WKDY']*\\\n",
    "                                                  ((station_allturnstile_df['TIME_TYPE']=='MORNING')|\\\n",
    "                                                   (station_allturnstile_df['TIME_TYPE']=='EVENING'))    "
   ]
  },
  {
   "cell_type": "code",
   "execution_count": 38,
   "metadata": {},
   "outputs": [
    {
     "data": {
      "text/html": [
       "<div>\n",
       "<style scoped>\n",
       "    .dataframe tbody tr th:only-of-type {\n",
       "        vertical-align: middle;\n",
       "    }\n",
       "\n",
       "    .dataframe tbody tr th {\n",
       "        vertical-align: top;\n",
       "    }\n",
       "\n",
       "    .dataframe thead th {\n",
       "        text-align: right;\n",
       "    }\n",
       "</style>\n",
       "<table border=\"1\" class=\"dataframe\">\n",
       "  <thead>\n",
       "    <tr style=\"text-align: right;\">\n",
       "      <th></th>\n",
       "      <th>STATION_ID</th>\n",
       "      <th>DATETIME</th>\n",
       "      <th>ENTRY_COUNT</th>\n",
       "      <th>EXIT_COUNT</th>\n",
       "      <th>DOFW</th>\n",
       "      <th>DOFW_NUM</th>\n",
       "      <th>IS_WKDY</th>\n",
       "      <th>TIME_TYPE</th>\n",
       "      <th>DATE</th>\n",
       "      <th>WKDY_COMMENTRY_COUNT</th>\n",
       "      <th>WKDY_COMMEXIT_COUNT</th>\n",
       "    </tr>\n",
       "  </thead>\n",
       "  <tbody>\n",
       "    <tr>\n",
       "      <th>0</th>\n",
       "      <td>1 AV_L</td>\n",
       "      <td>2017-08-26 04:00:00</td>\n",
       "      <td>1425.0</td>\n",
       "      <td>999.0</td>\n",
       "      <td>Saturday</td>\n",
       "      <td>5</td>\n",
       "      <td>0</td>\n",
       "      <td>LATE</td>\n",
       "      <td>2017-08-26</td>\n",
       "      <td>0.0</td>\n",
       "      <td>0.0</td>\n",
       "    </tr>\n",
       "    <tr>\n",
       "      <th>1</th>\n",
       "      <td>1 AV_L</td>\n",
       "      <td>2017-08-26 08:00:00</td>\n",
       "      <td>529.0</td>\n",
       "      <td>949.0</td>\n",
       "      <td>Saturday</td>\n",
       "      <td>5</td>\n",
       "      <td>0</td>\n",
       "      <td>OTHER</td>\n",
       "      <td>2017-08-26</td>\n",
       "      <td>0.0</td>\n",
       "      <td>0.0</td>\n",
       "    </tr>\n",
       "    <tr>\n",
       "      <th>2</th>\n",
       "      <td>1 AV_L</td>\n",
       "      <td>2017-08-26 12:00:00</td>\n",
       "      <td>2208.0</td>\n",
       "      <td>2516.0</td>\n",
       "      <td>Saturday</td>\n",
       "      <td>5</td>\n",
       "      <td>0</td>\n",
       "      <td>MORNING</td>\n",
       "      <td>2017-08-26</td>\n",
       "      <td>0.0</td>\n",
       "      <td>0.0</td>\n",
       "    </tr>\n",
       "    <tr>\n",
       "      <th>3</th>\n",
       "      <td>1 AV_L</td>\n",
       "      <td>2017-08-26 16:00:00</td>\n",
       "      <td>4076.0</td>\n",
       "      <td>3723.0</td>\n",
       "      <td>Saturday</td>\n",
       "      <td>5</td>\n",
       "      <td>0</td>\n",
       "      <td>OTHER</td>\n",
       "      <td>2017-08-26</td>\n",
       "      <td>0.0</td>\n",
       "      <td>0.0</td>\n",
       "    </tr>\n",
       "    <tr>\n",
       "      <th>4</th>\n",
       "      <td>1 AV_L</td>\n",
       "      <td>2017-08-26 20:00:00</td>\n",
       "      <td>3659.0</td>\n",
       "      <td>4603.0</td>\n",
       "      <td>Saturday</td>\n",
       "      <td>5</td>\n",
       "      <td>0</td>\n",
       "      <td>EVENING</td>\n",
       "      <td>2017-08-26</td>\n",
       "      <td>0.0</td>\n",
       "      <td>0.0</td>\n",
       "    </tr>\n",
       "  </tbody>\n",
       "</table>\n",
       "</div>"
      ],
      "text/plain": [
       "  STATION_ID            DATETIME  ENTRY_COUNT  EXIT_COUNT      DOFW  DOFW_NUM  \\\n",
       "0     1 AV_L 2017-08-26 04:00:00       1425.0       999.0  Saturday         5   \n",
       "1     1 AV_L 2017-08-26 08:00:00        529.0       949.0  Saturday         5   \n",
       "2     1 AV_L 2017-08-26 12:00:00       2208.0      2516.0  Saturday         5   \n",
       "3     1 AV_L 2017-08-26 16:00:00       4076.0      3723.0  Saturday         5   \n",
       "4     1 AV_L 2017-08-26 20:00:00       3659.0      4603.0  Saturday         5   \n",
       "\n",
       "   IS_WKDY TIME_TYPE        DATE  WKDY_COMMENTRY_COUNT  WKDY_COMMEXIT_COUNT  \n",
       "0        0      LATE  2017-08-26                   0.0                  0.0  \n",
       "1        0     OTHER  2017-08-26                   0.0                  0.0  \n",
       "2        0   MORNING  2017-08-26                   0.0                  0.0  \n",
       "3        0     OTHER  2017-08-26                   0.0                  0.0  \n",
       "4        0   EVENING  2017-08-26                   0.0                  0.0  "
      ]
     },
     "execution_count": 38,
     "metadata": {},
     "output_type": "execute_result"
    }
   ],
   "source": [
    "station_allturnstile_df.head()"
   ]
  },
  {
   "cell_type": "code",
   "execution_count": 39,
   "metadata": {},
   "outputs": [],
   "source": [
    "# finding total riders entering and exiting per station on each day of week over the entire time period\n",
    "station_daily_count_df = station_allturnstile_df.groupby(['STATION_ID', 'DATE'], sort=False, as_index=False)\\\n",
    "                                    [['ENTRY_COUNT', 'WKDY_COMMENTRY_COUNT',\n",
    "                                      'EXIT_COUNT', 'WKDY_COMMEXIT_COUNT']].agg(sum)"
   ]
  },
  {
   "cell_type": "code",
   "execution_count": 40,
   "metadata": {},
   "outputs": [],
   "source": [
    "station_daily_count_df['DOFW_NUM'] = [x.weekday() for x in list(station_daily_count_df['DATE'])]\n",
    "station_daily_count_df['IS_WKDY']  = station_daily_count_df['DOFW_NUM'].apply(lambda x: 0 if x>4 else 1)"
   ]
  },
  {
   "cell_type": "code",
   "execution_count": 41,
   "metadata": {},
   "outputs": [
    {
     "data": {
      "text/html": [
       "<div>\n",
       "<style scoped>\n",
       "    .dataframe tbody tr th:only-of-type {\n",
       "        vertical-align: middle;\n",
       "    }\n",
       "\n",
       "    .dataframe tbody tr th {\n",
       "        vertical-align: top;\n",
       "    }\n",
       "\n",
       "    .dataframe thead th {\n",
       "        text-align: right;\n",
       "    }\n",
       "</style>\n",
       "<table border=\"1\" class=\"dataframe\">\n",
       "  <thead>\n",
       "    <tr style=\"text-align: right;\">\n",
       "      <th></th>\n",
       "      <th>STATION_ID</th>\n",
       "      <th>DATE</th>\n",
       "      <th>ENTRY_COUNT</th>\n",
       "      <th>WKDY_COMMENTRY_COUNT</th>\n",
       "      <th>EXIT_COUNT</th>\n",
       "      <th>WKDY_COMMEXIT_COUNT</th>\n",
       "      <th>DOFW_NUM</th>\n",
       "      <th>IS_WKDY</th>\n",
       "    </tr>\n",
       "  </thead>\n",
       "  <tbody>\n",
       "    <tr>\n",
       "      <th>0</th>\n",
       "      <td>1 AV_L</td>\n",
       "      <td>2017-08-26</td>\n",
       "      <td>11897.0</td>\n",
       "      <td>0.0</td>\n",
       "      <td>12790.0</td>\n",
       "      <td>0.0</td>\n",
       "      <td>5</td>\n",
       "      <td>0</td>\n",
       "    </tr>\n",
       "    <tr>\n",
       "      <th>1</th>\n",
       "      <td>1 AV_L</td>\n",
       "      <td>2017-08-27</td>\n",
       "      <td>13321.0</td>\n",
       "      <td>0.0</td>\n",
       "      <td>15576.0</td>\n",
       "      <td>0.0</td>\n",
       "      <td>6</td>\n",
       "      <td>0</td>\n",
       "    </tr>\n",
       "    <tr>\n",
       "      <th>2</th>\n",
       "      <td>1 AV_L</td>\n",
       "      <td>2017-08-28</td>\n",
       "      <td>16840.0</td>\n",
       "      <td>9843.0</td>\n",
       "      <td>18262.0</td>\n",
       "      <td>9613.0</td>\n",
       "      <td>0</td>\n",
       "      <td>1</td>\n",
       "    </tr>\n",
       "    <tr>\n",
       "      <th>3</th>\n",
       "      <td>1 AV_L</td>\n",
       "      <td>2017-08-29</td>\n",
       "      <td>18255.0</td>\n",
       "      <td>9685.0</td>\n",
       "      <td>19867.0</td>\n",
       "      <td>10211.0</td>\n",
       "      <td>1</td>\n",
       "      <td>1</td>\n",
       "    </tr>\n",
       "    <tr>\n",
       "      <th>4</th>\n",
       "      <td>1 AV_L</td>\n",
       "      <td>2017-08-30</td>\n",
       "      <td>19005.0</td>\n",
       "      <td>10470.0</td>\n",
       "      <td>20181.0</td>\n",
       "      <td>10444.0</td>\n",
       "      <td>2</td>\n",
       "      <td>1</td>\n",
       "    </tr>\n",
       "  </tbody>\n",
       "</table>\n",
       "</div>"
      ],
      "text/plain": [
       "  STATION_ID        DATE  ENTRY_COUNT  WKDY_COMMENTRY_COUNT  EXIT_COUNT  \\\n",
       "0     1 AV_L  2017-08-26      11897.0                   0.0     12790.0   \n",
       "1     1 AV_L  2017-08-27      13321.0                   0.0     15576.0   \n",
       "2     1 AV_L  2017-08-28      16840.0                9843.0     18262.0   \n",
       "3     1 AV_L  2017-08-29      18255.0                9685.0     19867.0   \n",
       "4     1 AV_L  2017-08-30      19005.0               10470.0     20181.0   \n",
       "\n",
       "   WKDY_COMMEXIT_COUNT  DOFW_NUM  IS_WKDY  \n",
       "0                  0.0         5        0  \n",
       "1                  0.0         6        0  \n",
       "2               9613.0         0        1  \n",
       "3              10211.0         1        1  \n",
       "4              10444.0         2        1  "
      ]
     },
     "execution_count": 41,
     "metadata": {},
     "output_type": "execute_result"
    }
   ],
   "source": [
    "station_daily_count_df.head()"
   ]
  },
  {
   "cell_type": "code",
   "execution_count": 42,
   "metadata": {},
   "outputs": [],
   "source": [
    "# finding mean riders entering per weekday for each station over the entire time period\n",
    "mean_wkdy_entries = station_daily_count_df.groupby('STATION_ID').\\\n",
    "                      apply(lambda x: (x['ENTRY_COUNT']*x['IS_WKDY']).sum()/x['IS_WKDY'].sum())\n",
    "# finding mean riders exiting per weekday for each station over the entire time period\n",
    "mean_wkdy_exits = station_daily_count_df.groupby('STATION_ID').\\\n",
    "                      apply(lambda x:(x['EXIT_COUNT']*x['IS_WKDY']).sum()/x['IS_WKDY'].sum())"
   ]
  },
  {
   "cell_type": "code",
   "execution_count": 43,
   "metadata": {},
   "outputs": [],
   "source": [
    "# finding mean riders entering per weekend for each station over the entire time period\n",
    "mean_wken_entries = station_daily_count_df.groupby('STATION_ID').\\\n",
    "                  apply(lambda x:(x['ENTRY_COUNT']*(1-x['IS_WKDY'])).sum()/(1-x['IS_WKDY']).sum())\n",
    "# finding mean riders exiting per weekend for each station over the entire time period\n",
    "mean_wken_exits = station_daily_count_df.groupby('STATION_ID').\\\n",
    "                  apply(lambda x:(x['EXIT_COUNT']*(1-x['IS_WKDY'])).sum()/(1-x['IS_WKDY']).sum())"
   ]
  },
  {
   "cell_type": "code",
   "execution_count": 44,
   "metadata": {},
   "outputs": [],
   "source": [
    "# finding mean riders entering per weekday for each station during rush hour\n",
    "mean_wkdy_commentries = station_daily_count_df.groupby('STATION_ID').\\\n",
    "                      apply(lambda x: (x['WKDY_COMMENTRY_COUNT']*x['IS_WKDY']).sum()/x['IS_WKDY'].sum())\n",
    "# finding mean riders exiting per weekday for each station during rush hour\n",
    "mean_wkdy_commexits = station_daily_count_df.groupby('STATION_ID').\\\n",
    "                      apply(lambda x:(x['WKDY_COMMEXIT_COUNT']*x['IS_WKDY']).sum()/x['IS_WKDY'].sum())"
   ]
  },
  {
   "cell_type": "code",
   "execution_count": 45,
   "metadata": {},
   "outputs": [],
   "source": [
    "# finding mean riders per weekday and weekend for each station\n",
    "mean_eachday_df = pd.concat([mean_wkdy_entries, mean_wkdy_exits, mean_wken_entries, mean_wken_exits,\\\n",
    "                             mean_wkdy_commentries, mean_wkdy_commexits], axis=1)\n",
    "mean_eachday_df.columns = ['MEAN_WKDY_ENTRIES', 'MEAN_WKDY_EXITS', 'MEAN_WKEN_ENTRIES', 'MEAN_WKEN_EXITS',\\\n",
    "                           'MEAN_WKDY_COMM_ENTRIES', 'MEAN_WKDY_COMM_EXITS']\n",
    "mean_eachday_df['MEAN_WKDY'] = (mean_eachday_df['MEAN_WKDY_ENTRIES'] + mean_eachday_df['MEAN_WKDY_EXITS'])/2\n",
    "mean_eachday_df['MEAN_WKEN'] = (mean_eachday_df['MEAN_WKEN_ENTRIES'] + mean_eachday_df['MEAN_WKEN_EXITS'])/2\n",
    "mean_eachday_df['MEAN_COMM_WKDY'] = (mean_eachday_df['MEAN_WKDY_COMM_ENTRIES'] \n",
    "                                     + mean_eachday_df['MEAN_WKDY_COMM_EXITS'])/2"
   ]
  },
  {
   "cell_type": "code",
   "execution_count": 46,
   "metadata": {},
   "outputs": [
    {
     "name": "stdout",
     "output_type": "stream",
     "text": [
      "Top stations based on mean weekday entry/exit traffic\n"
     ]
    },
    {
     "data": {
      "text/html": [
       "<div>\n",
       "<style scoped>\n",
       "    .dataframe tbody tr th:only-of-type {\n",
       "        vertical-align: middle;\n",
       "    }\n",
       "\n",
       "    .dataframe tbody tr th {\n",
       "        vertical-align: top;\n",
       "    }\n",
       "\n",
       "    .dataframe thead th {\n",
       "        text-align: right;\n",
       "    }\n",
       "</style>\n",
       "<table border=\"1\" class=\"dataframe\">\n",
       "  <thead>\n",
       "    <tr style=\"text-align: right;\">\n",
       "      <th></th>\n",
       "      <th>MEAN_WKDY_ENTRIES</th>\n",
       "      <th>MEAN_WKDY_EXITS</th>\n",
       "      <th>MEAN_WKEN_ENTRIES</th>\n",
       "      <th>MEAN_WKEN_EXITS</th>\n",
       "      <th>MEAN_WKDY_COMM_ENTRIES</th>\n",
       "      <th>MEAN_WKDY_COMM_EXITS</th>\n",
       "      <th>MEAN_WKDY</th>\n",
       "      <th>MEAN_WKEN</th>\n",
       "      <th>MEAN_COMM_WKDY</th>\n",
       "    </tr>\n",
       "    <tr>\n",
       "      <th>STATION_ID</th>\n",
       "      <th></th>\n",
       "      <th></th>\n",
       "      <th></th>\n",
       "      <th></th>\n",
       "      <th></th>\n",
       "      <th></th>\n",
       "      <th></th>\n",
       "      <th></th>\n",
       "      <th></th>\n",
       "    </tr>\n",
       "  </thead>\n",
       "  <tbody>\n",
       "    <tr>\n",
       "      <th>GRD CNTRL-42 ST_4567S</th>\n",
       "      <td>126104.200000</td>\n",
       "      <td>126498.600000</td>\n",
       "      <td>56416.277778</td>\n",
       "      <td>55961.444444</td>\n",
       "      <td>65443.022222</td>\n",
       "      <td>62755.288889</td>\n",
       "      <td>126301.400000</td>\n",
       "      <td>56188.861111</td>\n",
       "      <td>64099.155556</td>\n",
       "    </tr>\n",
       "    <tr>\n",
       "      <th>34 ST-HERALD SQ_BDFMNQRW</th>\n",
       "      <td>108934.955556</td>\n",
       "      <td>96434.288889</td>\n",
       "      <td>67135.000000</td>\n",
       "      <td>56916.444444</td>\n",
       "      <td>59004.977778</td>\n",
       "      <td>56160.466667</td>\n",
       "      <td>102684.622222</td>\n",
       "      <td>62025.722222</td>\n",
       "      <td>57582.722222</td>\n",
       "    </tr>\n",
       "    <tr>\n",
       "      <th>14 ST-UNION SQ_456LNQRW</th>\n",
       "      <td>97909.933333</td>\n",
       "      <td>89454.555556</td>\n",
       "      <td>71950.888889</td>\n",
       "      <td>63150.722222</td>\n",
       "      <td>39164.977778</td>\n",
       "      <td>38053.044444</td>\n",
       "      <td>93682.244444</td>\n",
       "      <td>67550.805556</td>\n",
       "      <td>38609.011111</td>\n",
       "    </tr>\n",
       "    <tr>\n",
       "      <th>FULTON ST_2345ACJZ</th>\n",
       "      <td>92616.911111</td>\n",
       "      <td>75612.511111</td>\n",
       "      <td>38733.722222</td>\n",
       "      <td>28319.777778</td>\n",
       "      <td>52524.066667</td>\n",
       "      <td>42292.044444</td>\n",
       "      <td>84114.711111</td>\n",
       "      <td>33526.750000</td>\n",
       "      <td>47408.055556</td>\n",
       "    </tr>\n",
       "    <tr>\n",
       "      <th>TIMES SQ-42 ST_1237ACENQRSW</th>\n",
       "      <td>81492.177778</td>\n",
       "      <td>82381.822222</td>\n",
       "      <td>48301.555556</td>\n",
       "      <td>53157.611111</td>\n",
       "      <td>46250.244444</td>\n",
       "      <td>50862.800000</td>\n",
       "      <td>81937.000000</td>\n",
       "      <td>50729.583333</td>\n",
       "      <td>48556.522222</td>\n",
       "    </tr>\n",
       "    <tr>\n",
       "      <th>34 ST-PENN STA_ACE</th>\n",
       "      <td>79439.866667</td>\n",
       "      <td>66806.777778</td>\n",
       "      <td>41798.277778</td>\n",
       "      <td>40964.222222</td>\n",
       "      <td>45858.511111</td>\n",
       "      <td>40227.777778</td>\n",
       "      <td>73123.322222</td>\n",
       "      <td>41381.250000</td>\n",
       "      <td>43043.144444</td>\n",
       "    </tr>\n",
       "    <tr>\n",
       "      <th>42 ST-PORT AUTH_1237ACENQRSW</th>\n",
       "      <td>86666.044444</td>\n",
       "      <td>50407.822222</td>\n",
       "      <td>52175.333333</td>\n",
       "      <td>43945.055556</td>\n",
       "      <td>38641.866667</td>\n",
       "      <td>20807.200000</td>\n",
       "      <td>68536.933333</td>\n",
       "      <td>48060.194444</td>\n",
       "      <td>29724.533333</td>\n",
       "    </tr>\n",
       "    <tr>\n",
       "      <th>59 ST COLUMBUS_1ABCD</th>\n",
       "      <td>67063.466667</td>\n",
       "      <td>59646.555556</td>\n",
       "      <td>42615.000000</td>\n",
       "      <td>34090.166667</td>\n",
       "      <td>34004.533333</td>\n",
       "      <td>34712.422222</td>\n",
       "      <td>63355.011111</td>\n",
       "      <td>38352.583333</td>\n",
       "      <td>34358.477778</td>\n",
       "    </tr>\n",
       "    <tr>\n",
       "      <th>47-50 STS ROCK_BDFM</th>\n",
       "      <td>57291.911111</td>\n",
       "      <td>58354.666667</td>\n",
       "      <td>13188.000000</td>\n",
       "      <td>10681.000000</td>\n",
       "      <td>38376.644444</td>\n",
       "      <td>38613.755556</td>\n",
       "      <td>57823.288889</td>\n",
       "      <td>11934.500000</td>\n",
       "      <td>38495.200000</td>\n",
       "    </tr>\n",
       "    <tr>\n",
       "      <th>59 ST_456NQRW</th>\n",
       "      <td>57508.266667</td>\n",
       "      <td>51568.000000</td>\n",
       "      <td>29479.000000</td>\n",
       "      <td>25431.277778</td>\n",
       "      <td>34169.088889</td>\n",
       "      <td>29984.866667</td>\n",
       "      <td>54538.133333</td>\n",
       "      <td>27455.138889</td>\n",
       "      <td>32076.977778</td>\n",
       "    </tr>\n",
       "  </tbody>\n",
       "</table>\n",
       "</div>"
      ],
      "text/plain": [
       "                              MEAN_WKDY_ENTRIES  MEAN_WKDY_EXITS  \\\n",
       "STATION_ID                                                         \n",
       "GRD CNTRL-42 ST_4567S             126104.200000    126498.600000   \n",
       "34 ST-HERALD SQ_BDFMNQRW          108934.955556     96434.288889   \n",
       "14 ST-UNION SQ_456LNQRW            97909.933333     89454.555556   \n",
       "FULTON ST_2345ACJZ                 92616.911111     75612.511111   \n",
       "TIMES SQ-42 ST_1237ACENQRSW        81492.177778     82381.822222   \n",
       "34 ST-PENN STA_ACE                 79439.866667     66806.777778   \n",
       "42 ST-PORT AUTH_1237ACENQRSW       86666.044444     50407.822222   \n",
       "59 ST COLUMBUS_1ABCD               67063.466667     59646.555556   \n",
       "47-50 STS ROCK_BDFM                57291.911111     58354.666667   \n",
       "59 ST_456NQRW                      57508.266667     51568.000000   \n",
       "\n",
       "                              MEAN_WKEN_ENTRIES  MEAN_WKEN_EXITS  \\\n",
       "STATION_ID                                                         \n",
       "GRD CNTRL-42 ST_4567S              56416.277778     55961.444444   \n",
       "34 ST-HERALD SQ_BDFMNQRW           67135.000000     56916.444444   \n",
       "14 ST-UNION SQ_456LNQRW            71950.888889     63150.722222   \n",
       "FULTON ST_2345ACJZ                 38733.722222     28319.777778   \n",
       "TIMES SQ-42 ST_1237ACENQRSW        48301.555556     53157.611111   \n",
       "34 ST-PENN STA_ACE                 41798.277778     40964.222222   \n",
       "42 ST-PORT AUTH_1237ACENQRSW       52175.333333     43945.055556   \n",
       "59 ST COLUMBUS_1ABCD               42615.000000     34090.166667   \n",
       "47-50 STS ROCK_BDFM                13188.000000     10681.000000   \n",
       "59 ST_456NQRW                      29479.000000     25431.277778   \n",
       "\n",
       "                              MEAN_WKDY_COMM_ENTRIES  MEAN_WKDY_COMM_EXITS  \\\n",
       "STATION_ID                                                                   \n",
       "GRD CNTRL-42 ST_4567S                   65443.022222          62755.288889   \n",
       "34 ST-HERALD SQ_BDFMNQRW                59004.977778          56160.466667   \n",
       "14 ST-UNION SQ_456LNQRW                 39164.977778          38053.044444   \n",
       "FULTON ST_2345ACJZ                      52524.066667          42292.044444   \n",
       "TIMES SQ-42 ST_1237ACENQRSW             46250.244444          50862.800000   \n",
       "34 ST-PENN STA_ACE                      45858.511111          40227.777778   \n",
       "42 ST-PORT AUTH_1237ACENQRSW            38641.866667          20807.200000   \n",
       "59 ST COLUMBUS_1ABCD                    34004.533333          34712.422222   \n",
       "47-50 STS ROCK_BDFM                     38376.644444          38613.755556   \n",
       "59 ST_456NQRW                           34169.088889          29984.866667   \n",
       "\n",
       "                                  MEAN_WKDY     MEAN_WKEN  MEAN_COMM_WKDY  \n",
       "STATION_ID                                                                 \n",
       "GRD CNTRL-42 ST_4567S         126301.400000  56188.861111    64099.155556  \n",
       "34 ST-HERALD SQ_BDFMNQRW      102684.622222  62025.722222    57582.722222  \n",
       "14 ST-UNION SQ_456LNQRW        93682.244444  67550.805556    38609.011111  \n",
       "FULTON ST_2345ACJZ             84114.711111  33526.750000    47408.055556  \n",
       "TIMES SQ-42 ST_1237ACENQRSW    81937.000000  50729.583333    48556.522222  \n",
       "34 ST-PENN STA_ACE             73123.322222  41381.250000    43043.144444  \n",
       "42 ST-PORT AUTH_1237ACENQRSW   68536.933333  48060.194444    29724.533333  \n",
       "59 ST COLUMBUS_1ABCD           63355.011111  38352.583333    34358.477778  \n",
       "47-50 STS ROCK_BDFM            57823.288889  11934.500000    38495.200000  \n",
       "59 ST_456NQRW                  54538.133333  27455.138889    32076.977778  "
      ]
     },
     "execution_count": 46,
     "metadata": {},
     "output_type": "execute_result"
    }
   ],
   "source": [
    "# pick top stations based on total weekday traffic\n",
    "ntop = 10\n",
    "st_wkdymean_top_df = mean_eachday_df.nlargest(ntop, columns='MEAN_WKDY')          \n",
    "print('Top stations based on mean weekday entry/exit traffic')\n",
    "st_wkdymean_top_df"
   ]
  },
  {
   "cell_type": "code",
   "execution_count": 48,
   "metadata": {},
   "outputs": [
    {
     "data": {
      "image/png": "[encoded data removed]",
      "text/plain": [
       "<matplotlib.figure.Figure at 0x1058ce898>"
      ]
     },
     "metadata": {},
     "output_type": "display_data"
    }
   ],
   "source": [
    "ax = st_wkdymean_top_df[['MEAN_WKDY','MEAN_WKEN']].plot(kind='bar', figsize=(20, 6));\n",
    "fig = ax.get_figure()\n",
    "ax.set_xticklabels([name[:name.index('_')] for name in st_wkdymean_top_df.index]);\n",
    "plt.xlabel('');\n",
    "plt.ylabel('Count');\n",
    "plt.xticks(rotation=25)\n",
    "plt.title('Weekday vs Weekend usage for top 10 stations');\n",
    "#fig.savefig('Top10WeekdayStationsFinal.png', bbox_inches='tight')"
   ]
  },
  {
   "cell_type": "code",
   "execution_count": 50,
   "metadata": {},
   "outputs": [
    {
     "data": {
      "image/png": "[encoded data removed]",
      "text/plain": [
       "<matplotlib.figure.Figure at 0x104e43710>"
      ]
     },
     "metadata": {},
     "output_type": "display_data"
    }
   ],
   "source": [
    "ax = st_wkdymean_top_df[['MEAN_WKDY','MEAN_WKEN','MEAN_COMM_WKDY']].plot(kind='bar', figsize=(20, 6));\n",
    "fig = ax.get_figure()\n",
    "ax.set_xticklabels([name[:name.index('_')] for name in st_wkdymean_top_df.index]);\n",
    "plt.xlabel('');\n",
    "plt.ylabel('Count');\n",
    "plt.xticks(rotation=25);\n",
    "plt.title('''Weekday(Full & Commute) vs Weekend usage for top 10 stations \n",
    "          selected based on weekday overall traffic''');\n",
    "\n",
    "#fig.savefig('Top10Weekday_CommuteStationsFinal.png', bbox_inches='tight')"
   ]
  },
  {
   "cell_type": "code",
   "execution_count": 47,
   "metadata": {
    "scrolled": false
   },
   "outputs": [
    {
     "name": "stdout",
     "output_type": "stream",
     "text": [
      "Top stations based on mean weekday entry/exit traffic during rush hour\n"
     ]
    },
    {
     "data": {
      "text/html": [
       "<div>\n",
       "<style scoped>\n",
       "    .dataframe tbody tr th:only-of-type {\n",
       "        vertical-align: middle;\n",
       "    }\n",
       "\n",
       "    .dataframe tbody tr th {\n",
       "        vertical-align: top;\n",
       "    }\n",
       "\n",
       "    .dataframe thead th {\n",
       "        text-align: right;\n",
       "    }\n",
       "</style>\n",
       "<table border=\"1\" class=\"dataframe\">\n",
       "  <thead>\n",
       "    <tr style=\"text-align: right;\">\n",
       "      <th></th>\n",
       "      <th>MEAN_WKDY_ENTRIES</th>\n",
       "      <th>MEAN_WKDY_EXITS</th>\n",
       "      <th>MEAN_WKEN_ENTRIES</th>\n",
       "      <th>MEAN_WKEN_EXITS</th>\n",
       "      <th>MEAN_WKDY_COMM_ENTRIES</th>\n",
       "      <th>MEAN_WKDY_COMM_EXITS</th>\n",
       "      <th>MEAN_WKDY</th>\n",
       "      <th>MEAN_WKEN</th>\n",
       "      <th>MEAN_COMM_WKDY</th>\n",
       "    </tr>\n",
       "    <tr>\n",
       "      <th>STATION_ID</th>\n",
       "      <th></th>\n",
       "      <th></th>\n",
       "      <th></th>\n",
       "      <th></th>\n",
       "      <th></th>\n",
       "      <th></th>\n",
       "      <th></th>\n",
       "      <th></th>\n",
       "      <th></th>\n",
       "    </tr>\n",
       "  </thead>\n",
       "  <tbody>\n",
       "    <tr>\n",
       "      <th>GRD CNTRL-42 ST_4567S</th>\n",
       "      <td>126104.200000</td>\n",
       "      <td>126498.600000</td>\n",
       "      <td>56416.277778</td>\n",
       "      <td>55961.444444</td>\n",
       "      <td>65443.022222</td>\n",
       "      <td>62755.288889</td>\n",
       "      <td>126301.400000</td>\n",
       "      <td>56188.861111</td>\n",
       "      <td>64099.155556</td>\n",
       "    </tr>\n",
       "    <tr>\n",
       "      <th>34 ST-HERALD SQ_BDFMNQRW</th>\n",
       "      <td>108934.955556</td>\n",
       "      <td>96434.288889</td>\n",
       "      <td>67135.000000</td>\n",
       "      <td>56916.444444</td>\n",
       "      <td>59004.977778</td>\n",
       "      <td>56160.466667</td>\n",
       "      <td>102684.622222</td>\n",
       "      <td>62025.722222</td>\n",
       "      <td>57582.722222</td>\n",
       "    </tr>\n",
       "    <tr>\n",
       "      <th>TIMES SQ-42 ST_1237ACENQRSW</th>\n",
       "      <td>81492.177778</td>\n",
       "      <td>82381.822222</td>\n",
       "      <td>48301.555556</td>\n",
       "      <td>53157.611111</td>\n",
       "      <td>46250.244444</td>\n",
       "      <td>50862.800000</td>\n",
       "      <td>81937.000000</td>\n",
       "      <td>50729.583333</td>\n",
       "      <td>48556.522222</td>\n",
       "    </tr>\n",
       "    <tr>\n",
       "      <th>FULTON ST_2345ACJZ</th>\n",
       "      <td>92616.911111</td>\n",
       "      <td>75612.511111</td>\n",
       "      <td>38733.722222</td>\n",
       "      <td>28319.777778</td>\n",
       "      <td>52524.066667</td>\n",
       "      <td>42292.044444</td>\n",
       "      <td>84114.711111</td>\n",
       "      <td>33526.750000</td>\n",
       "      <td>47408.055556</td>\n",
       "    </tr>\n",
       "    <tr>\n",
       "      <th>34 ST-PENN STA_ACE</th>\n",
       "      <td>79439.866667</td>\n",
       "      <td>66806.777778</td>\n",
       "      <td>41798.277778</td>\n",
       "      <td>40964.222222</td>\n",
       "      <td>45858.511111</td>\n",
       "      <td>40227.777778</td>\n",
       "      <td>73123.322222</td>\n",
       "      <td>41381.250000</td>\n",
       "      <td>43043.144444</td>\n",
       "    </tr>\n",
       "    <tr>\n",
       "      <th>14 ST-UNION SQ_456LNQRW</th>\n",
       "      <td>97909.933333</td>\n",
       "      <td>89454.555556</td>\n",
       "      <td>71950.888889</td>\n",
       "      <td>63150.722222</td>\n",
       "      <td>39164.977778</td>\n",
       "      <td>38053.044444</td>\n",
       "      <td>93682.244444</td>\n",
       "      <td>67550.805556</td>\n",
       "      <td>38609.011111</td>\n",
       "    </tr>\n",
       "    <tr>\n",
       "      <th>47-50 STS ROCK_BDFM</th>\n",
       "      <td>57291.911111</td>\n",
       "      <td>58354.666667</td>\n",
       "      <td>13188.000000</td>\n",
       "      <td>10681.000000</td>\n",
       "      <td>38376.644444</td>\n",
       "      <td>38613.755556</td>\n",
       "      <td>57823.288889</td>\n",
       "      <td>11934.500000</td>\n",
       "      <td>38495.200000</td>\n",
       "    </tr>\n",
       "    <tr>\n",
       "      <th>59 ST COLUMBUS_1ABCD</th>\n",
       "      <td>67063.466667</td>\n",
       "      <td>59646.555556</td>\n",
       "      <td>42615.000000</td>\n",
       "      <td>34090.166667</td>\n",
       "      <td>34004.533333</td>\n",
       "      <td>34712.422222</td>\n",
       "      <td>63355.011111</td>\n",
       "      <td>38352.583333</td>\n",
       "      <td>34358.477778</td>\n",
       "    </tr>\n",
       "    <tr>\n",
       "      <th>59 ST_456NQRW</th>\n",
       "      <td>57508.266667</td>\n",
       "      <td>51568.000000</td>\n",
       "      <td>29479.000000</td>\n",
       "      <td>25431.277778</td>\n",
       "      <td>34169.088889</td>\n",
       "      <td>29984.866667</td>\n",
       "      <td>54538.133333</td>\n",
       "      <td>27455.138889</td>\n",
       "      <td>32076.977778</td>\n",
       "    </tr>\n",
       "    <tr>\n",
       "      <th>42 ST-PORT AUTH_1237ACENQRSW</th>\n",
       "      <td>86666.044444</td>\n",
       "      <td>50407.822222</td>\n",
       "      <td>52175.333333</td>\n",
       "      <td>43945.055556</td>\n",
       "      <td>38641.866667</td>\n",
       "      <td>20807.200000</td>\n",
       "      <td>68536.933333</td>\n",
       "      <td>48060.194444</td>\n",
       "      <td>29724.533333</td>\n",
       "    </tr>\n",
       "  </tbody>\n",
       "</table>\n",
       "</div>"
      ],
      "text/plain": [
       "                              MEAN_WKDY_ENTRIES  MEAN_WKDY_EXITS  \\\n",
       "STATION_ID                                                         \n",
       "GRD CNTRL-42 ST_4567S             126104.200000    126498.600000   \n",
       "34 ST-HERALD SQ_BDFMNQRW          108934.955556     96434.288889   \n",
       "TIMES SQ-42 ST_1237ACENQRSW        81492.177778     82381.822222   \n",
       "FULTON ST_2345ACJZ                 92616.911111     75612.511111   \n",
       "34 ST-PENN STA_ACE                 79439.866667     66806.777778   \n",
       "14 ST-UNION SQ_456LNQRW            97909.933333     89454.555556   \n",
       "47-50 STS ROCK_BDFM                57291.911111     58354.666667   \n",
       "59 ST COLUMBUS_1ABCD               67063.466667     59646.555556   \n",
       "59 ST_456NQRW                      57508.266667     51568.000000   \n",
       "42 ST-PORT AUTH_1237ACENQRSW       86666.044444     50407.822222   \n",
       "\n",
       "                              MEAN_WKEN_ENTRIES  MEAN_WKEN_EXITS  \\\n",
       "STATION_ID                                                         \n",
       "GRD CNTRL-42 ST_4567S              56416.277778     55961.444444   \n",
       "34 ST-HERALD SQ_BDFMNQRW           67135.000000     56916.444444   \n",
       "TIMES SQ-42 ST_1237ACENQRSW        48301.555556     53157.611111   \n",
       "FULTON ST_2345ACJZ                 38733.722222     28319.777778   \n",
       "34 ST-PENN STA_ACE                 41798.277778     40964.222222   \n",
       "14 ST-UNION SQ_456LNQRW            71950.888889     63150.722222   \n",
       "47-50 STS ROCK_BDFM                13188.000000     10681.000000   \n",
       "59 ST COLUMBUS_1ABCD               42615.000000     34090.166667   \n",
       "59 ST_456NQRW                      29479.000000     25431.277778   \n",
       "42 ST-PORT AUTH_1237ACENQRSW       52175.333333     43945.055556   \n",
       "\n",
       "                              MEAN_WKDY_COMM_ENTRIES  MEAN_WKDY_COMM_EXITS  \\\n",
       "STATION_ID                                                                   \n",
       "GRD CNTRL-42 ST_4567S                   65443.022222          62755.288889   \n",
       "34 ST-HERALD SQ_BDFMNQRW                59004.977778          56160.466667   \n",
       "TIMES SQ-42 ST_1237ACENQRSW             46250.244444          50862.800000   \n",
       "FULTON ST_2345ACJZ                      52524.066667          42292.044444   \n",
       "34 ST-PENN STA_ACE                      45858.511111          40227.777778   \n",
       "14 ST-UNION SQ_456LNQRW                 39164.977778          38053.044444   \n",
       "47-50 STS ROCK_BDFM                     38376.644444          38613.755556   \n",
       "59 ST COLUMBUS_1ABCD                    34004.533333          34712.422222   \n",
       "59 ST_456NQRW                           34169.088889          29984.866667   \n",
       "42 ST-PORT AUTH_1237ACENQRSW            38641.866667          20807.200000   \n",
       "\n",
       "                                  MEAN_WKDY     MEAN_WKEN  MEAN_COMM_WKDY  \n",
       "STATION_ID                                                                 \n",
       "GRD CNTRL-42 ST_4567S         126301.400000  56188.861111    64099.155556  \n",
       "34 ST-HERALD SQ_BDFMNQRW      102684.622222  62025.722222    57582.722222  \n",
       "TIMES SQ-42 ST_1237ACENQRSW    81937.000000  50729.583333    48556.522222  \n",
       "FULTON ST_2345ACJZ             84114.711111  33526.750000    47408.055556  \n",
       "34 ST-PENN STA_ACE             73123.322222  41381.250000    43043.144444  \n",
       "14 ST-UNION SQ_456LNQRW        93682.244444  67550.805556    38609.011111  \n",
       "47-50 STS ROCK_BDFM            57823.288889  11934.500000    38495.200000  \n",
       "59 ST COLUMBUS_1ABCD           63355.011111  38352.583333    34358.477778  \n",
       "59 ST_456NQRW                  54538.133333  27455.138889    32076.977778  \n",
       "42 ST-PORT AUTH_1237ACENQRSW   68536.933333  48060.194444    29724.533333  "
      ]
     },
     "execution_count": 47,
     "metadata": {},
     "output_type": "execute_result"
    }
   ],
   "source": [
    "# pick top stations based on weekday rush hour traffic\n",
    "ntop = 10\n",
    "st_commwkdymean_top_df = mean_eachday_df.nlargest(ntop, columns='MEAN_COMM_WKDY')\n",
    "print('Top stations based on mean weekday entry/exit traffic during rush hour')\n",
    "st_commwkdymean_top_df"
   ]
  },
  {
   "cell_type": "code",
   "execution_count": 49,
   "metadata": {},
   "outputs": [
    {
     "data": {
      "image/png": "[encoded data removed]",
      "text/plain": [
       "<matplotlib.figure.Figure at 0x11747f860>"
      ]
     },
     "metadata": {},
     "output_type": "display_data"
    }
   ],
   "source": [
    "ax = st_commwkdymean_top_df[['MEAN_WKDY','MEAN_WKEN', 'MEAN_COMM_WKDY']].plot(kind='bar', figsize=(20, 6));\n",
    "fig = ax.get_figure()\n",
    "ax.set_xticklabels([name[:name.index('_')] for name in st_commwkdymean_top_df.index]);\n",
    "plt.xlabel('');\n",
    "plt.ylabel('Count');\n",
    "plt.xticks(rotation=25)\n",
    "plt.title('''Weekday(Full & Commute) vs Weekend usage for top 10 stations \n",
    "          selected based on weekday rush hour traffic''');\n",
    "#fig.savefig('Top10CommuteWeekdayStationsFinal.png', bbox_inches='tight')"
   ]
  },
  {
   "cell_type": "markdown",
   "metadata": {},
   "source": [
    "# Analyzing top 10 stations selected based on overall weekday traffic"
   ]
  },
  {
   "cell_type": "code",
   "execution_count": 51,
   "metadata": {},
   "outputs": [
    {
     "data": {
      "text/plain": [
       "Index(['GRD CNTRL-42 ST_4567S', '34 ST-HERALD SQ_BDFMNQRW',\n",
       "       '14 ST-UNION SQ_456LNQRW', 'FULTON ST_2345ACJZ',\n",
       "       'TIMES SQ-42 ST_1237ACENQRSW', '34 ST-PENN STA_ACE',\n",
       "       '42 ST-PORT AUTH_1237ACENQRSW', '59 ST COLUMBUS_1ABCD',\n",
       "       '47-50 STS ROCK_BDFM', '59 ST_456NQRW'],\n",
       "      dtype='object', name='STATION_ID')"
      ]
     },
     "execution_count": 51,
     "metadata": {},
     "output_type": "execute_result"
    }
   ],
   "source": [
    "# top stations for further analysis\n",
    "top_stations = st_wkdymean_top_df.index\n",
    "top_stations"
   ]
  },
  {
   "cell_type": "code",
   "execution_count": 52,
   "metadata": {},
   "outputs": [],
   "source": [
    "top_stations_df = pd.concat([turnstile_df.groupby('STATION_ID', sort=False, as_index=False).\n",
    "                             get_group(group) for group in top_stations])"
   ]
  },
  {
   "cell_type": "code",
   "execution_count": 54,
   "metadata": {},
   "outputs": [],
   "source": [
    "# get weekday\n",
    "top_stations_df['DOFW'] = top_stations_df['DATETIME'].dt.weekday_name\n",
    "top_stations_df['DOFW_NUM'] = top_stations_df['DATETIME'].dt.weekday\n",
    "# classify as weekday/weekend\n",
    "top_stations_df['IS_WKDY'] = top_stations_df['DOFW_NUM'].apply(lambda x: 0 if x>4 else 1)\n",
    "# classify the time slot as morning/evening/late/other\n",
    "top_stations_df['TIME_TYPE'] = top_stations_df['DATETIME'].apply(getTimeType)"
   ]
  },
  {
   "cell_type": "code",
   "execution_count": 55,
   "metadata": {},
   "outputs": [
    {
     "data": {
      "text/html": [
       "<div>\n",
       "<style scoped>\n",
       "    .dataframe tbody tr th:only-of-type {\n",
       "        vertical-align: middle;\n",
       "    }\n",
       "\n",
       "    .dataframe tbody tr th {\n",
       "        vertical-align: top;\n",
       "    }\n",
       "\n",
       "    .dataframe thead th {\n",
       "        text-align: right;\n",
       "    }\n",
       "</style>\n",
       "<table border=\"1\" class=\"dataframe\">\n",
       "  <thead>\n",
       "    <tr style=\"text-align: right;\">\n",
       "      <th></th>\n",
       "      <th>C/A</th>\n",
       "      <th>UNIT</th>\n",
       "      <th>SCP</th>\n",
       "      <th>STATION</th>\n",
       "      <th>LINENAME</th>\n",
       "      <th>DATE</th>\n",
       "      <th>TIME</th>\n",
       "      <th>DATETIME</th>\n",
       "      <th>STATION_ID</th>\n",
       "      <th>ENTRY_COUNT</th>\n",
       "      <th>EXIT_COUNT</th>\n",
       "      <th>DOFW</th>\n",
       "      <th>DOFW_NUM</th>\n",
       "      <th>IS_WKDY</th>\n",
       "      <th>TIME_TYPE</th>\n",
       "    </tr>\n",
       "  </thead>\n",
       "  <tbody>\n",
       "    <tr>\n",
       "      <th>152277</th>\n",
       "      <td>R236</td>\n",
       "      <td>R045</td>\n",
       "      <td>00-00-00</td>\n",
       "      <td>GRD CNTRL-42 ST</td>\n",
       "      <td>4567S</td>\n",
       "      <td>2017-08-26</td>\n",
       "      <td>05:00:00</td>\n",
       "      <td>2017-08-26 05:00:00</td>\n",
       "      <td>GRD CNTRL-42 ST_4567S</td>\n",
       "      <td>4.0</td>\n",
       "      <td>6.0</td>\n",
       "      <td>Saturday</td>\n",
       "      <td>5</td>\n",
       "      <td>0</td>\n",
       "      <td>OTHER</td>\n",
       "    </tr>\n",
       "    <tr>\n",
       "      <th>152278</th>\n",
       "      <td>R236</td>\n",
       "      <td>R045</td>\n",
       "      <td>00-00-00</td>\n",
       "      <td>GRD CNTRL-42 ST</td>\n",
       "      <td>4567S</td>\n",
       "      <td>2017-08-26</td>\n",
       "      <td>09:00:00</td>\n",
       "      <td>2017-08-26 09:00:00</td>\n",
       "      <td>GRD CNTRL-42 ST_4567S</td>\n",
       "      <td>28.0</td>\n",
       "      <td>146.0</td>\n",
       "      <td>Saturday</td>\n",
       "      <td>5</td>\n",
       "      <td>0</td>\n",
       "      <td>MORNING</td>\n",
       "    </tr>\n",
       "    <tr>\n",
       "      <th>152279</th>\n",
       "      <td>R236</td>\n",
       "      <td>R045</td>\n",
       "      <td>00-00-00</td>\n",
       "      <td>GRD CNTRL-42 ST</td>\n",
       "      <td>4567S</td>\n",
       "      <td>2017-08-26</td>\n",
       "      <td>13:00:00</td>\n",
       "      <td>2017-08-26 13:00:00</td>\n",
       "      <td>GRD CNTRL-42 ST_4567S</td>\n",
       "      <td>110.0</td>\n",
       "      <td>364.0</td>\n",
       "      <td>Saturday</td>\n",
       "      <td>5</td>\n",
       "      <td>0</td>\n",
       "      <td>OTHER</td>\n",
       "    </tr>\n",
       "    <tr>\n",
       "      <th>152280</th>\n",
       "      <td>R236</td>\n",
       "      <td>R045</td>\n",
       "      <td>00-00-00</td>\n",
       "      <td>GRD CNTRL-42 ST</td>\n",
       "      <td>4567S</td>\n",
       "      <td>2017-08-26</td>\n",
       "      <td>17:00:00</td>\n",
       "      <td>2017-08-26 17:00:00</td>\n",
       "      <td>GRD CNTRL-42 ST_4567S</td>\n",
       "      <td>191.0</td>\n",
       "      <td>381.0</td>\n",
       "      <td>Saturday</td>\n",
       "      <td>5</td>\n",
       "      <td>0</td>\n",
       "      <td>OTHER</td>\n",
       "    </tr>\n",
       "    <tr>\n",
       "      <th>152281</th>\n",
       "      <td>R236</td>\n",
       "      <td>R045</td>\n",
       "      <td>00-00-00</td>\n",
       "      <td>GRD CNTRL-42 ST</td>\n",
       "      <td>4567S</td>\n",
       "      <td>2017-08-26</td>\n",
       "      <td>21:00:00</td>\n",
       "      <td>2017-08-26 21:00:00</td>\n",
       "      <td>GRD CNTRL-42 ST_4567S</td>\n",
       "      <td>134.0</td>\n",
       "      <td>223.0</td>\n",
       "      <td>Saturday</td>\n",
       "      <td>5</td>\n",
       "      <td>0</td>\n",
       "      <td>EVENING</td>\n",
       "    </tr>\n",
       "  </tbody>\n",
       "</table>\n",
       "</div>"
      ],
      "text/plain": [
       "         C/A  UNIT       SCP          STATION LINENAME        DATE      TIME  \\\n",
       "152277  R236  R045  00-00-00  GRD CNTRL-42 ST    4567S  2017-08-26  05:00:00   \n",
       "152278  R236  R045  00-00-00  GRD CNTRL-42 ST    4567S  2017-08-26  09:00:00   \n",
       "152279  R236  R045  00-00-00  GRD CNTRL-42 ST    4567S  2017-08-26  13:00:00   \n",
       "152280  R236  R045  00-00-00  GRD CNTRL-42 ST    4567S  2017-08-26  17:00:00   \n",
       "152281  R236  R045  00-00-00  GRD CNTRL-42 ST    4567S  2017-08-26  21:00:00   \n",
       "\n",
       "                  DATETIME             STATION_ID  ENTRY_COUNT  EXIT_COUNT  \\\n",
       "152277 2017-08-26 05:00:00  GRD CNTRL-42 ST_4567S          4.0         6.0   \n",
       "152278 2017-08-26 09:00:00  GRD CNTRL-42 ST_4567S         28.0       146.0   \n",
       "152279 2017-08-26 13:00:00  GRD CNTRL-42 ST_4567S        110.0       364.0   \n",
       "152280 2017-08-26 17:00:00  GRD CNTRL-42 ST_4567S        191.0       381.0   \n",
       "152281 2017-08-26 21:00:00  GRD CNTRL-42 ST_4567S        134.0       223.0   \n",
       "\n",
       "            DOFW  DOFW_NUM  IS_WKDY TIME_TYPE  \n",
       "152277  Saturday         5        0     OTHER  \n",
       "152278  Saturday         5        0   MORNING  \n",
       "152279  Saturday         5        0     OTHER  \n",
       "152280  Saturday         5        0     OTHER  \n",
       "152281  Saturday         5        0   EVENING  "
      ]
     },
     "execution_count": 55,
     "metadata": {},
     "output_type": "execute_result"
    }
   ],
   "source": [
    "top_stations_df.head()"
   ]
  },
  {
   "cell_type": "markdown",
   "metadata": {},
   "source": [
    "## get the morning and evening rush hour traffic for the selected stations"
   ]
  },
  {
   "cell_type": "code",
   "execution_count": 56,
   "metadata": {},
   "outputs": [],
   "source": [
    "def getWkdyMornCnt(row, wkdy, time, entry): \n",
    "    if entry:\n",
    "        return row['ENTRY_COUNT']*(row['IS_WKDY']==wkdy)*(row['TIME_TYPE']==time)\n",
    "    else:\n",
    "        return row['EXIT_COUNT']*(row['IS_WKDY']==wkdy)*(row['TIME_TYPE']==time)"
   ]
  },
  {
   "cell_type": "code",
   "execution_count": 57,
   "metadata": {},
   "outputs": [],
   "source": [
    "#get total morning entries on weekdays per day per station\n",
    "top_stations_df['WKDY_MORN_ENTRY'] = top_stations_df.apply(getWkdyMornCnt, axis=1, wkdy=1, time='MORNING', entry=True)"
   ]
  },
  {
   "cell_type": "code",
   "execution_count": 58,
   "metadata": {},
   "outputs": [],
   "source": [
    "#get total morning exits on weekdays per day per station\n",
    "top_stations_df['WKDY_MORN_EXIT'] = top_stations_df.apply(getWkdyMornCnt, axis=1, wkdy=1, time='MORNING', entry=False)"
   ]
  },
  {
   "cell_type": "code",
   "execution_count": 59,
   "metadata": {},
   "outputs": [],
   "source": [
    "#get total evening entries on weekdays per day per station\n",
    "top_stations_df['WKDY_EVEN_ENTRY'] = top_stations_df.apply(getWkdyMornCnt, axis=1, wkdy=1, time='EVENING', entry=True)"
   ]
  },
  {
   "cell_type": "code",
   "execution_count": 60,
   "metadata": {},
   "outputs": [],
   "source": [
    "#get total evening exits on weekdays per day per station\n",
    "top_stations_df['WKDY_EVEN_EXIT'] = top_stations_df.apply(getWkdyMornCnt, axis=1, wkdy=1, time='EVENING', entry=False)"
   ]
  },
  {
   "cell_type": "code",
   "execution_count": 61,
   "metadata": {},
   "outputs": [],
   "source": [
    "#get total morning entries on weekends per day per station\n",
    "top_stations_df['WKEN_MORN_ENTRY'] = top_stations_df.apply(getWkdyMornCnt, axis=1, wkdy=0, time='MORNING', entry=True)"
   ]
  },
  {
   "cell_type": "code",
   "execution_count": 62,
   "metadata": {},
   "outputs": [],
   "source": [
    "#get total morning exits on weekends per day per station\n",
    "top_stations_df['WKEN_MORN_EXIT'] = top_stations_df.apply(getWkdyMornCnt, axis=1, wkdy=0, time='MORNING', entry=False)"
   ]
  },
  {
   "cell_type": "code",
   "execution_count": 63,
   "metadata": {},
   "outputs": [],
   "source": [
    "#get total evening entries on weekends per day per station\n",
    "top_stations_df['WKEN_EVEN_ENTRY'] = top_stations_df.apply(getWkdyMornCnt, axis=1, wkdy=0, time='EVENING', entry=True)"
   ]
  },
  {
   "cell_type": "code",
   "execution_count": 64,
   "metadata": {},
   "outputs": [],
   "source": [
    "#get total evening exits on weekends per day per station\n",
    "top_stations_df['WKEN_EVEN_EXIT'] = top_stations_df.apply(getWkdyMornCnt, axis=1, wkdy=0, time='EVENING', entry=False)"
   ]
  },
  {
   "cell_type": "code",
   "execution_count": 65,
   "metadata": {},
   "outputs": [
    {
     "data": {
      "text/html": [
       "<div>\n",
       "<style scoped>\n",
       "    .dataframe tbody tr th:only-of-type {\n",
       "        vertical-align: middle;\n",
       "    }\n",
       "\n",
       "    .dataframe tbody tr th {\n",
       "        vertical-align: top;\n",
       "    }\n",
       "\n",
       "    .dataframe thead th {\n",
       "        text-align: right;\n",
       "    }\n",
       "</style>\n",
       "<table border=\"1\" class=\"dataframe\">\n",
       "  <thead>\n",
       "    <tr style=\"text-align: right;\">\n",
       "      <th></th>\n",
       "      <th>STATION_ID</th>\n",
       "      <th>DATE</th>\n",
       "      <th>WKDY_MORN_ENTRY</th>\n",
       "      <th>WKDY_MORN_EXIT</th>\n",
       "      <th>WKDY_EVEN_ENTRY</th>\n",
       "      <th>WKDY_EVEN_EXIT</th>\n",
       "      <th>WKEN_MORN_ENTRY</th>\n",
       "      <th>WKEN_MORN_EXIT</th>\n",
       "      <th>WKEN_EVEN_ENTRY</th>\n",
       "      <th>WKEN_EVEN_EXIT</th>\n",
       "      <th>DOFW_NUM</th>\n",
       "      <th>IS_WKDY</th>\n",
       "    </tr>\n",
       "  </thead>\n",
       "  <tbody>\n",
       "    <tr>\n",
       "      <th>0</th>\n",
       "      <td>GRD CNTRL-42 ST_4567S</td>\n",
       "      <td>2017-08-26</td>\n",
       "      <td>0.0</td>\n",
       "      <td>0.0</td>\n",
       "      <td>0.0</td>\n",
       "      <td>0.0</td>\n",
       "      <td>8743.0</td>\n",
       "      <td>9439.0</td>\n",
       "      <td>14362.0</td>\n",
       "      <td>13438.0</td>\n",
       "      <td>5</td>\n",
       "      <td>0</td>\n",
       "    </tr>\n",
       "    <tr>\n",
       "      <th>1</th>\n",
       "      <td>GRD CNTRL-42 ST_4567S</td>\n",
       "      <td>2017-08-27</td>\n",
       "      <td>0.0</td>\n",
       "      <td>0.0</td>\n",
       "      <td>0.0</td>\n",
       "      <td>0.0</td>\n",
       "      <td>6798.0</td>\n",
       "      <td>5953.0</td>\n",
       "      <td>13639.0</td>\n",
       "      <td>11419.0</td>\n",
       "      <td>6</td>\n",
       "      <td>0</td>\n",
       "    </tr>\n",
       "    <tr>\n",
       "      <th>2</th>\n",
       "      <td>GRD CNTRL-42 ST_4567S</td>\n",
       "      <td>2017-08-28</td>\n",
       "      <td>25752.0</td>\n",
       "      <td>32687.0</td>\n",
       "      <td>41197.0</td>\n",
       "      <td>25287.0</td>\n",
       "      <td>0.0</td>\n",
       "      <td>0.0</td>\n",
       "      <td>0.0</td>\n",
       "      <td>0.0</td>\n",
       "      <td>0</td>\n",
       "      <td>1</td>\n",
       "    </tr>\n",
       "    <tr>\n",
       "      <th>3</th>\n",
       "      <td>GRD CNTRL-42 ST_4567S</td>\n",
       "      <td>2017-08-29</td>\n",
       "      <td>25704.0</td>\n",
       "      <td>33652.0</td>\n",
       "      <td>44380.0</td>\n",
       "      <td>24961.0</td>\n",
       "      <td>0.0</td>\n",
       "      <td>0.0</td>\n",
       "      <td>0.0</td>\n",
       "      <td>0.0</td>\n",
       "      <td>1</td>\n",
       "      <td>1</td>\n",
       "    </tr>\n",
       "    <tr>\n",
       "      <th>4</th>\n",
       "      <td>GRD CNTRL-42 ST_4567S</td>\n",
       "      <td>2017-08-30</td>\n",
       "      <td>25219.0</td>\n",
       "      <td>33461.0</td>\n",
       "      <td>41036.0</td>\n",
       "      <td>26073.0</td>\n",
       "      <td>0.0</td>\n",
       "      <td>0.0</td>\n",
       "      <td>0.0</td>\n",
       "      <td>0.0</td>\n",
       "      <td>2</td>\n",
       "      <td>1</td>\n",
       "    </tr>\n",
       "  </tbody>\n",
       "</table>\n",
       "</div>"
      ],
      "text/plain": [
       "              STATION_ID        DATE  WKDY_MORN_ENTRY  WKDY_MORN_EXIT  \\\n",
       "0  GRD CNTRL-42 ST_4567S  2017-08-26              0.0             0.0   \n",
       "1  GRD CNTRL-42 ST_4567S  2017-08-27              0.0             0.0   \n",
       "2  GRD CNTRL-42 ST_4567S  2017-08-28          25752.0         32687.0   \n",
       "3  GRD CNTRL-42 ST_4567S  2017-08-29          25704.0         33652.0   \n",
       "4  GRD CNTRL-42 ST_4567S  2017-08-30          25219.0         33461.0   \n",
       "\n",
       "   WKDY_EVEN_ENTRY  WKDY_EVEN_EXIT  WKEN_MORN_ENTRY  WKEN_MORN_EXIT  \\\n",
       "0              0.0             0.0           8743.0          9439.0   \n",
       "1              0.0             0.0           6798.0          5953.0   \n",
       "2          41197.0         25287.0              0.0             0.0   \n",
       "3          44380.0         24961.0              0.0             0.0   \n",
       "4          41036.0         26073.0              0.0             0.0   \n",
       "\n",
       "   WKEN_EVEN_ENTRY  WKEN_EVEN_EXIT  DOFW_NUM  IS_WKDY  \n",
       "0          14362.0         13438.0         5        0  \n",
       "1          13639.0         11419.0         6        0  \n",
       "2              0.0             0.0         0        1  \n",
       "3              0.0             0.0         1        1  \n",
       "4              0.0             0.0         2        1  "
      ]
     },
     "execution_count": 65,
     "metadata": {},
     "output_type": "execute_result"
    }
   ],
   "source": [
    "# get the aggregate of all turnstiles at a station per day\n",
    "top_stations_agg_df = top_stations_df.groupby(['STATION_ID', 'DATE'], sort=False, as_index=False)\\\n",
    "                                     [['WKDY_MORN_ENTRY','WKDY_MORN_EXIT',\\\n",
    "                                       'WKDY_EVEN_ENTRY','WKDY_EVEN_EXIT',\\\n",
    "                                       'WKEN_MORN_ENTRY','WKEN_MORN_EXIT',\\\n",
    "                                       'WKEN_EVEN_ENTRY','WKEN_EVEN_EXIT']]\\\n",
    "                                     .agg(sum)\n",
    "\n",
    "top_stations_agg_df['DOFW_NUM'] = [x.weekday() for x in list(top_stations_agg_df['DATE'])]\n",
    "top_stations_agg_df['IS_WKDY'] = top_stations_agg_df['DOFW_NUM'].apply(lambda x: 0 if x>4 else 1)\n",
    "\n",
    "top_stations_agg_df.head()"
   ]
  },
  {
   "cell_type": "code",
   "execution_count": 66,
   "metadata": {},
   "outputs": [
    {
     "data": {
      "text/html": [
       "<div>\n",
       "<style scoped>\n",
       "    .dataframe tbody tr th:only-of-type {\n",
       "        vertical-align: middle;\n",
       "    }\n",
       "\n",
       "    .dataframe tbody tr th {\n",
       "        vertical-align: top;\n",
       "    }\n",
       "\n",
       "    .dataframe thead th {\n",
       "        text-align: right;\n",
       "    }\n",
       "</style>\n",
       "<table border=\"1\" class=\"dataframe\">\n",
       "  <thead>\n",
       "    <tr style=\"text-align: right;\">\n",
       "      <th></th>\n",
       "      <th>WKDY_MORN_ENTRY</th>\n",
       "      <th>WKDY_MORN_EXIT</th>\n",
       "      <th>WKDY_EVEN_ENTRY</th>\n",
       "      <th>WKDY_EVEN_EXIT</th>\n",
       "      <th>WKEN_MORN_ENTRY</th>\n",
       "      <th>WKEN_MORN_EXIT</th>\n",
       "      <th>WKEN_EVEN_ENTRY</th>\n",
       "      <th>WKEN_EVEN_EXIT</th>\n",
       "      <th>IS_WKDY</th>\n",
       "    </tr>\n",
       "    <tr>\n",
       "      <th>STATION_ID</th>\n",
       "      <th></th>\n",
       "      <th></th>\n",
       "      <th></th>\n",
       "      <th></th>\n",
       "      <th></th>\n",
       "      <th></th>\n",
       "      <th></th>\n",
       "      <th></th>\n",
       "      <th></th>\n",
       "    </tr>\n",
       "  </thead>\n",
       "  <tbody>\n",
       "    <tr>\n",
       "      <th>GRD CNTRL-42 ST_4567S</th>\n",
       "      <td>1105845.0</td>\n",
       "      <td>1614108.0</td>\n",
       "      <td>1839091.0</td>\n",
       "      <td>1209880.0</td>\n",
       "      <td>146741.0</td>\n",
       "      <td>165962.0</td>\n",
       "      <td>290438.0</td>\n",
       "      <td>253520.0</td>\n",
       "      <td>45</td>\n",
       "    </tr>\n",
       "    <tr>\n",
       "      <th>34 ST-HERALD SQ_BDFMNQRW</th>\n",
       "      <td>974428.0</td>\n",
       "      <td>1403283.0</td>\n",
       "      <td>1680796.0</td>\n",
       "      <td>1123938.0</td>\n",
       "      <td>130971.0</td>\n",
       "      <td>216346.0</td>\n",
       "      <td>390349.0</td>\n",
       "      <td>280436.0</td>\n",
       "      <td>45</td>\n",
       "    </tr>\n",
       "    <tr>\n",
       "      <th>14 ST-UNION SQ_456LNQRW</th>\n",
       "      <td>379121.0</td>\n",
       "      <td>869652.0</td>\n",
       "      <td>1383303.0</td>\n",
       "      <td>842735.0</td>\n",
       "      <td>35998.0</td>\n",
       "      <td>83966.0</td>\n",
       "      <td>397016.0</td>\n",
       "      <td>271361.0</td>\n",
       "      <td>45</td>\n",
       "    </tr>\n",
       "    <tr>\n",
       "      <th>FULTON ST_2345ACJZ</th>\n",
       "      <td>503248.0</td>\n",
       "      <td>1269826.0</td>\n",
       "      <td>1860335.0</td>\n",
       "      <td>633316.0</td>\n",
       "      <td>43467.0</td>\n",
       "      <td>62702.0</td>\n",
       "      <td>221021.0</td>\n",
       "      <td>124054.0</td>\n",
       "      <td>45</td>\n",
       "    </tr>\n",
       "    <tr>\n",
       "      <th>TIMES SQ-42 ST_1237ACENQRSW</th>\n",
       "      <td>493724.0</td>\n",
       "      <td>1325229.0</td>\n",
       "      <td>1587537.0</td>\n",
       "      <td>963597.0</td>\n",
       "      <td>91852.0</td>\n",
       "      <td>177808.0</td>\n",
       "      <td>252204.0</td>\n",
       "      <td>281464.0</td>\n",
       "      <td>45</td>\n",
       "    </tr>\n",
       "  </tbody>\n",
       "</table>\n",
       "</div>"
      ],
      "text/plain": [
       "                             WKDY_MORN_ENTRY  WKDY_MORN_EXIT  WKDY_EVEN_ENTRY  \\\n",
       "STATION_ID                                                                      \n",
       "GRD CNTRL-42 ST_4567S              1105845.0       1614108.0        1839091.0   \n",
       "34 ST-HERALD SQ_BDFMNQRW            974428.0       1403283.0        1680796.0   \n",
       "14 ST-UNION SQ_456LNQRW             379121.0        869652.0        1383303.0   \n",
       "FULTON ST_2345ACJZ                  503248.0       1269826.0        1860335.0   \n",
       "TIMES SQ-42 ST_1237ACENQRSW         493724.0       1325229.0        1587537.0   \n",
       "\n",
       "                             WKDY_EVEN_EXIT  WKEN_MORN_ENTRY  WKEN_MORN_EXIT  \\\n",
       "STATION_ID                                                                     \n",
       "GRD CNTRL-42 ST_4567S             1209880.0         146741.0        165962.0   \n",
       "34 ST-HERALD SQ_BDFMNQRW          1123938.0         130971.0        216346.0   \n",
       "14 ST-UNION SQ_456LNQRW            842735.0          35998.0         83966.0   \n",
       "FULTON ST_2345ACJZ                 633316.0          43467.0         62702.0   \n",
       "TIMES SQ-42 ST_1237ACENQRSW        963597.0          91852.0        177808.0   \n",
       "\n",
       "                             WKEN_EVEN_ENTRY  WKEN_EVEN_EXIT  IS_WKDY  \n",
       "STATION_ID                                                             \n",
       "GRD CNTRL-42 ST_4567S               290438.0        253520.0       45  \n",
       "34 ST-HERALD SQ_BDFMNQRW            390349.0        280436.0       45  \n",
       "14 ST-UNION SQ_456LNQRW             397016.0        271361.0       45  \n",
       "FULTON ST_2345ACJZ                  221021.0        124054.0       45  \n",
       "TIMES SQ-42 ST_1237ACENQRSW         252204.0        281464.0       45  "
      ]
     },
     "execution_count": 66,
     "metadata": {},
     "output_type": "execute_result"
    }
   ],
   "source": [
    "# get the aggregate for the entire time period for each station\n",
    "top_stations_final_df = top_stations_agg_df.groupby('STATION_ID', sort=False)\\\n",
    "                                     [['WKDY_MORN_ENTRY','WKDY_MORN_EXIT',\\\n",
    "                                       'WKDY_EVEN_ENTRY','WKDY_EVEN_EXIT',\\\n",
    "                                       'WKEN_MORN_ENTRY','WKEN_MORN_EXIT',\\\n",
    "                                       'WKEN_EVEN_ENTRY','WKEN_EVEN_EXIT',\\\n",
    "                                       'IS_WKDY']].agg(sum)\n",
    "                                     \n",
    "\n",
    "top_stations_final_df.head()"
   ]
  },
  {
   "cell_type": "code",
   "execution_count": 67,
   "metadata": {},
   "outputs": [],
   "source": [
    "top_stations_final_df.rename(columns={'IS_WKDY':'NUM_WKDY'}, inplace=True)\n",
    "top_stations_final_df['NUM_WKEN'] = top_stations_agg_df.groupby('STATION_ID', sort=False).size() - \\\n",
    "                                    top_stations_final_df['NUM_WKDY']"
   ]
  },
  {
   "cell_type": "code",
   "execution_count": 68,
   "metadata": {},
   "outputs": [],
   "source": [
    "# get the mean entry and exit counts\n",
    "top_stations_final_df['WKDY_MORN_ENTRY'] /= top_stations_final_df['NUM_WKDY']\n",
    "top_stations_final_df['WKDY_MORN_EXIT'] /= top_stations_final_df['NUM_WKDY']\n",
    "top_stations_final_df['WKDY_EVEN_ENTRY'] /= top_stations_final_df['NUM_WKDY']\n",
    "top_stations_final_df['WKDY_EVEN_EXIT'] /= top_stations_final_df['NUM_WKDY']\n",
    "\n",
    "top_stations_final_df['WKEN_MORN_ENTRY'] /= top_stations_final_df['NUM_WKEN']\n",
    "top_stations_final_df['WKEN_MORN_EXIT'] /= top_stations_final_df['NUM_WKEN']\n",
    "top_stations_final_df['WKEN_EVEN_ENTRY'] /= top_stations_final_df['NUM_WKEN']\n",
    "top_stations_final_df['WKEN_EVEN_EXIT'] /= top_stations_final_df['NUM_WKEN']"
   ]
  },
  {
   "cell_type": "code",
   "execution_count": 69,
   "metadata": {},
   "outputs": [
    {
     "data": {
      "text/html": [
       "<div>\n",
       "<style scoped>\n",
       "    .dataframe tbody tr th:only-of-type {\n",
       "        vertical-align: middle;\n",
       "    }\n",
       "\n",
       "    .dataframe tbody tr th {\n",
       "        vertical-align: top;\n",
       "    }\n",
       "\n",
       "    .dataframe thead th {\n",
       "        text-align: right;\n",
       "    }\n",
       "</style>\n",
       "<table border=\"1\" class=\"dataframe\">\n",
       "  <thead>\n",
       "    <tr style=\"text-align: right;\">\n",
       "      <th></th>\n",
       "      <th>WKDY_MORN_ENTRY</th>\n",
       "      <th>WKDY_MORN_EXIT</th>\n",
       "      <th>WKDY_EVEN_ENTRY</th>\n",
       "      <th>WKDY_EVEN_EXIT</th>\n",
       "      <th>WKEN_MORN_ENTRY</th>\n",
       "      <th>WKEN_MORN_EXIT</th>\n",
       "      <th>WKEN_EVEN_ENTRY</th>\n",
       "      <th>WKEN_EVEN_EXIT</th>\n",
       "      <th>NUM_WKDY</th>\n",
       "      <th>NUM_WKEN</th>\n",
       "    </tr>\n",
       "    <tr>\n",
       "      <th>STATION_ID</th>\n",
       "      <th></th>\n",
       "      <th></th>\n",
       "      <th></th>\n",
       "      <th></th>\n",
       "      <th></th>\n",
       "      <th></th>\n",
       "      <th></th>\n",
       "      <th></th>\n",
       "      <th></th>\n",
       "      <th></th>\n",
       "    </tr>\n",
       "  </thead>\n",
       "  <tbody>\n",
       "    <tr>\n",
       "      <th>GRD CNTRL-42 ST_4567S</th>\n",
       "      <td>24574.333333</td>\n",
       "      <td>35869.066667</td>\n",
       "      <td>40868.688889</td>\n",
       "      <td>26886.222222</td>\n",
       "      <td>8152.277778</td>\n",
       "      <td>9220.111111</td>\n",
       "      <td>16135.444444</td>\n",
       "      <td>14084.444444</td>\n",
       "      <td>45</td>\n",
       "      <td>18</td>\n",
       "    </tr>\n",
       "    <tr>\n",
       "      <th>34 ST-HERALD SQ_BDFMNQRW</th>\n",
       "      <td>21653.955556</td>\n",
       "      <td>31184.066667</td>\n",
       "      <td>37351.022222</td>\n",
       "      <td>24976.400000</td>\n",
       "      <td>7276.166667</td>\n",
       "      <td>12019.222222</td>\n",
       "      <td>21686.055556</td>\n",
       "      <td>15579.777778</td>\n",
       "      <td>45</td>\n",
       "      <td>18</td>\n",
       "    </tr>\n",
       "    <tr>\n",
       "      <th>14 ST-UNION SQ_456LNQRW</th>\n",
       "      <td>8424.911111</td>\n",
       "      <td>19325.600000</td>\n",
       "      <td>30740.066667</td>\n",
       "      <td>18727.444444</td>\n",
       "      <td>1999.888889</td>\n",
       "      <td>4664.777778</td>\n",
       "      <td>22056.444444</td>\n",
       "      <td>15075.611111</td>\n",
       "      <td>45</td>\n",
       "      <td>18</td>\n",
       "    </tr>\n",
       "    <tr>\n",
       "      <th>FULTON ST_2345ACJZ</th>\n",
       "      <td>11183.288889</td>\n",
       "      <td>28218.355556</td>\n",
       "      <td>41340.777778</td>\n",
       "      <td>14073.688889</td>\n",
       "      <td>2414.833333</td>\n",
       "      <td>3483.444444</td>\n",
       "      <td>12278.944444</td>\n",
       "      <td>6891.888889</td>\n",
       "      <td>45</td>\n",
       "      <td>18</td>\n",
       "    </tr>\n",
       "    <tr>\n",
       "      <th>TIMES SQ-42 ST_1237ACENQRSW</th>\n",
       "      <td>10971.644444</td>\n",
       "      <td>29449.533333</td>\n",
       "      <td>35278.600000</td>\n",
       "      <td>21413.266667</td>\n",
       "      <td>5102.888889</td>\n",
       "      <td>9878.222222</td>\n",
       "      <td>14011.333333</td>\n",
       "      <td>15636.888889</td>\n",
       "      <td>45</td>\n",
       "      <td>18</td>\n",
       "    </tr>\n",
       "    <tr>\n",
       "      <th>34 ST-PENN STA_ACE</th>\n",
       "      <td>23548.977778</td>\n",
       "      <td>17172.888889</td>\n",
       "      <td>22309.533333</td>\n",
       "      <td>23054.888889</td>\n",
       "      <td>6775.500000</td>\n",
       "      <td>8661.833333</td>\n",
       "      <td>12444.777778</td>\n",
       "      <td>11338.555556</td>\n",
       "      <td>45</td>\n",
       "      <td>18</td>\n",
       "    </tr>\n",
       "    <tr>\n",
       "      <th>42 ST-PORT AUTH_1237ACENQRSW</th>\n",
       "      <td>26632.800000</td>\n",
       "      <td>10334.533333</td>\n",
       "      <td>12009.066667</td>\n",
       "      <td>10472.666667</td>\n",
       "      <td>8644.111111</td>\n",
       "      <td>7629.944444</td>\n",
       "      <td>8709.944444</td>\n",
       "      <td>8387.777778</td>\n",
       "      <td>45</td>\n",
       "      <td>18</td>\n",
       "    </tr>\n",
       "    <tr>\n",
       "      <th>59 ST COLUMBUS_1ABCD</th>\n",
       "      <td>11134.955556</td>\n",
       "      <td>22246.466667</td>\n",
       "      <td>22869.577778</td>\n",
       "      <td>12465.955556</td>\n",
       "      <td>5402.777778</td>\n",
       "      <td>7682.444444</td>\n",
       "      <td>13926.222222</td>\n",
       "      <td>8731.888889</td>\n",
       "      <td>45</td>\n",
       "      <td>18</td>\n",
       "    </tr>\n",
       "    <tr>\n",
       "      <th>47-50 STS ROCK_BDFM</th>\n",
       "      <td>3408.444444</td>\n",
       "      <td>32252.044444</td>\n",
       "      <td>34968.200000</td>\n",
       "      <td>6361.711111</td>\n",
       "      <td>1052.111111</td>\n",
       "      <td>2528.388889</td>\n",
       "      <td>4031.888889</td>\n",
       "      <td>2657.666667</td>\n",
       "      <td>45</td>\n",
       "      <td>18</td>\n",
       "    </tr>\n",
       "    <tr>\n",
       "      <th>59 ST_456NQRW</th>\n",
       "      <td>7919.822222</td>\n",
       "      <td>19717.155556</td>\n",
       "      <td>26249.266667</td>\n",
       "      <td>10267.711111</td>\n",
       "      <td>3535.833333</td>\n",
       "      <td>6249.111111</td>\n",
       "      <td>9778.611111</td>\n",
       "      <td>6067.055556</td>\n",
       "      <td>45</td>\n",
       "      <td>18</td>\n",
       "    </tr>\n",
       "  </tbody>\n",
       "</table>\n",
       "</div>"
      ],
      "text/plain": [
       "                              WKDY_MORN_ENTRY  WKDY_MORN_EXIT  \\\n",
       "STATION_ID                                                      \n",
       "GRD CNTRL-42 ST_4567S            24574.333333    35869.066667   \n",
       "34 ST-HERALD SQ_BDFMNQRW         21653.955556    31184.066667   \n",
       "14 ST-UNION SQ_456LNQRW           8424.911111    19325.600000   \n",
       "FULTON ST_2345ACJZ               11183.288889    28218.355556   \n",
       "TIMES SQ-42 ST_1237ACENQRSW      10971.644444    29449.533333   \n",
       "34 ST-PENN STA_ACE               23548.977778    17172.888889   \n",
       "42 ST-PORT AUTH_1237ACENQRSW     26632.800000    10334.533333   \n",
       "59 ST COLUMBUS_1ABCD             11134.955556    22246.466667   \n",
       "47-50 STS ROCK_BDFM               3408.444444    32252.044444   \n",
       "59 ST_456NQRW                     7919.822222    19717.155556   \n",
       "\n",
       "                              WKDY_EVEN_ENTRY  WKDY_EVEN_EXIT  \\\n",
       "STATION_ID                                                      \n",
       "GRD CNTRL-42 ST_4567S            40868.688889    26886.222222   \n",
       "34 ST-HERALD SQ_BDFMNQRW         37351.022222    24976.400000   \n",
       "14 ST-UNION SQ_456LNQRW          30740.066667    18727.444444   \n",
       "FULTON ST_2345ACJZ               41340.777778    14073.688889   \n",
       "TIMES SQ-42 ST_1237ACENQRSW      35278.600000    21413.266667   \n",
       "34 ST-PENN STA_ACE               22309.533333    23054.888889   \n",
       "42 ST-PORT AUTH_1237ACENQRSW     12009.066667    10472.666667   \n",
       "59 ST COLUMBUS_1ABCD             22869.577778    12465.955556   \n",
       "47-50 STS ROCK_BDFM              34968.200000     6361.711111   \n",
       "59 ST_456NQRW                    26249.266667    10267.711111   \n",
       "\n",
       "                              WKEN_MORN_ENTRY  WKEN_MORN_EXIT  \\\n",
       "STATION_ID                                                      \n",
       "GRD CNTRL-42 ST_4567S             8152.277778     9220.111111   \n",
       "34 ST-HERALD SQ_BDFMNQRW          7276.166667    12019.222222   \n",
       "14 ST-UNION SQ_456LNQRW           1999.888889     4664.777778   \n",
       "FULTON ST_2345ACJZ                2414.833333     3483.444444   \n",
       "TIMES SQ-42 ST_1237ACENQRSW       5102.888889     9878.222222   \n",
       "34 ST-PENN STA_ACE                6775.500000     8661.833333   \n",
       "42 ST-PORT AUTH_1237ACENQRSW      8644.111111     7629.944444   \n",
       "59 ST COLUMBUS_1ABCD              5402.777778     7682.444444   \n",
       "47-50 STS ROCK_BDFM               1052.111111     2528.388889   \n",
       "59 ST_456NQRW                     3535.833333     6249.111111   \n",
       "\n",
       "                              WKEN_EVEN_ENTRY  WKEN_EVEN_EXIT  NUM_WKDY  \\\n",
       "STATION_ID                                                                \n",
       "GRD CNTRL-42 ST_4567S            16135.444444    14084.444444        45   \n",
       "34 ST-HERALD SQ_BDFMNQRW         21686.055556    15579.777778        45   \n",
       "14 ST-UNION SQ_456LNQRW          22056.444444    15075.611111        45   \n",
       "FULTON ST_2345ACJZ               12278.944444     6891.888889        45   \n",
       "TIMES SQ-42 ST_1237ACENQRSW      14011.333333    15636.888889        45   \n",
       "34 ST-PENN STA_ACE               12444.777778    11338.555556        45   \n",
       "42 ST-PORT AUTH_1237ACENQRSW      8709.944444     8387.777778        45   \n",
       "59 ST COLUMBUS_1ABCD             13926.222222     8731.888889        45   \n",
       "47-50 STS ROCK_BDFM               4031.888889     2657.666667        45   \n",
       "59 ST_456NQRW                     9778.611111     6067.055556        45   \n",
       "\n",
       "                              NUM_WKEN  \n",
       "STATION_ID                              \n",
       "GRD CNTRL-42 ST_4567S               18  \n",
       "34 ST-HERALD SQ_BDFMNQRW            18  \n",
       "14 ST-UNION SQ_456LNQRW             18  \n",
       "FULTON ST_2345ACJZ                  18  \n",
       "TIMES SQ-42 ST_1237ACENQRSW         18  \n",
       "34 ST-PENN STA_ACE                  18  \n",
       "42 ST-PORT AUTH_1237ACENQRSW        18  \n",
       "59 ST COLUMBUS_1ABCD                18  \n",
       "47-50 STS ROCK_BDFM                 18  \n",
       "59 ST_456NQRW                       18  "
      ]
     },
     "execution_count": 69,
     "metadata": {},
     "output_type": "execute_result"
    }
   ],
   "source": [
    "top_stations_final_df"
   ]
  },
  {
   "cell_type": "code",
   "execution_count": 70,
   "metadata": {},
   "outputs": [
    {
     "data": {
      "image/png": "[encoded data removed]",
      "text/plain": [
       "<matplotlib.figure.Figure at 0x10c633d68>"
      ]
     },
     "metadata": {},
     "output_type": "display_data"
    }
   ],
   "source": [
    "ax = top_stations_final_df[['WKDY_MORN_ENTRY','WKDY_MORN_EXIT','WKDY_EVEN_ENTRY','WKDY_EVEN_EXIT']].\\\n",
    "                plot(kind='bar', figsize=(20, 6));\n",
    "fig = ax.get_figure()\n",
    "ax.set_xticklabels([name[:name.index('_')] for name in top_stations_final_df.index]);\n",
    "plt.xticks(rotation=25)\n",
    "plt.xlabel('');\n",
    "plt.ylabel('Count');\n",
    "plt.title('Weekday morning vs evening usage for top 10 stations');\n",
    "#fig.savefig('Top10WeekdayTraffic.png', bbox_inches='tight')"
   ]
  },
  {
   "cell_type": "code",
   "execution_count": 71,
   "metadata": {},
   "outputs": [
    {
     "data": {
      "image/png": "[encoded data removed]",
      "text/plain": [
       "<matplotlib.figure.Figure at 0x10c62efd0>"
      ]
     },
     "metadata": {},
     "output_type": "display_data"
    }
   ],
   "source": [
    "ax = top_stations_final_df[['WKEN_MORN_ENTRY','WKEN_MORN_EXIT','WKEN_EVEN_ENTRY','WKEN_EVEN_EXIT']].\\\n",
    "                plot(kind='bar', figsize=(20, 6));\n",
    "fig = ax.get_figure()\n",
    "ax.set_xticklabels([name[:name.index('_')] for name in top_stations_final_df.index]);\n",
    "plt.xticks(rotation=25)\n",
    "plt.xlabel('');\n",
    "plt.ylabel('Count');\n",
    "plt.title('Weekend morning vs evening usage for top 10 stations');\n",
    "#fig.savefig('Top10WeekendTraffic.png', bbox_inches='tight')"
   ]
  },
  {
   "cell_type": "markdown",
   "metadata": {},
   "source": [
    "**47th–50th Streets–Rockefeller Center and Fulton Street have high morning exits and high evening entries on weekdays, which implies they are in neighborhoods with lots of offices**"
   ]
  },
  {
   "cell_type": "code",
   "execution_count": 104,
   "metadata": {},
   "outputs": [],
   "source": [
    "# selecting 47th–50th Streets–Rockefeller Center turnstile data\n",
    "station1_dayofweek = (top_stations_df[(top_stations_df['STATION_ID']=='47-50 STS ROCK_BDFM')]\n",
    "                      .groupby('DOFW', sort=False, as_index=False)\n",
    "                      [['ENTRY_COUNT', 'EXIT_COUNT']]\n",
    "                      .agg(sum))\n",
    "station1_timeofday = (top_stations_df[((top_stations_df['STATION_ID']=='47-50 STS ROCK_BDFM')\n",
    "                                       &(top_stations_df['IS_WKDY']==1))]\n",
    "                      .groupby('TIME', sort=False, as_index=False)\n",
    "                      [['ENTRY_COUNT', 'EXIT_COUNT']]\n",
    "                      .agg(sum))\n",
    "station1_timeofday.sort_values(by='TIME', inplace=True)"
   ]
  },
  {
   "cell_type": "code",
   "execution_count": 93,
   "metadata": {},
   "outputs": [
    {
     "data": {
      "image/png": "[encoded data removed]",
      "text/plain": [
       "<matplotlib.figure.Figure at 0x141219400>"
      ]
     },
     "metadata": {},
     "output_type": "display_data"
    }
   ],
   "source": [
    "ax = station1_dayofweek.plot(x='DOFW', kind='bar', figsize=(20, 6), rot=0, fontsize=20);\n",
    "#ax.set(xlabel='Day of Week', ylabel='Count');\n",
    "ax.set_title('47th–50th Streets–Rockefeller Center traffic', fontsize = 20)\n",
    "ax.set_xlabel('', fontsize = 20);\n",
    "ax.set_ylabel('Count', fontsize = 20);"
   ]
  },
  {
   "cell_type": "code",
   "execution_count": 106,
   "metadata": {},
   "outputs": [
    {
     "data": {
      "image/png": "[encoded data removed]",
      "text/plain": [
       "<matplotlib.figure.Figure at 0x1297dd0f0>"
      ]
     },
     "metadata": {},
     "output_type": "display_data"
    }
   ],
   "source": [
    "ax = station1_timeofday.plot(x='TIME', kind='bar', figsize=(20, 6), rot=0, fontsize=20);\n",
    "#ax.set(xlabel='Time of Day', ylabel='Count');\n",
    "ax.set_title('47th–50th Streets–Rockefeller Center Weekday traffic', fontsize = 20)\n",
    "ax.set_xlabel('Time of Day', fontsize = 20);\n",
    "ax.set_ylabel('Count', fontsize = 20);"
   ]
  },
  {
   "cell_type": "markdown",
   "metadata": {},
   "source": [
    "**This station has high exit count in the mornings and high entry count in the evening on weekdays. This implies it is close to a office neighborhood**"
   ]
  },
  {
   "cell_type": "code",
   "execution_count": 110,
   "metadata": {},
   "outputs": [],
   "source": [
    "# selecting Fulton Street turnstile data\n",
    "station2_dayofweek = (top_stations_df[(top_stations_df['STATION_ID']=='FULTON ST_2345ACJZ')]\n",
    "                      .groupby('DOFW', sort=False, as_index=False)\n",
    "                      [['ENTRY_COUNT', 'EXIT_COUNT']]\n",
    "                      .agg(sum))\n",
    "station2_timeofday = (top_stations_df[((top_stations_df['STATION_ID']=='FULTON ST_2345ACJZ')\n",
    "                                       &(top_stations_df['IS_WKDY']==1))]\n",
    "                      .groupby('TIME', sort=False, as_index=False)\n",
    "                      [['ENTRY_COUNT', 'EXIT_COUNT']]\n",
    "                      .agg(sum))\n",
    "station2_timeofday.sort_values(by='TIME', inplace=True)"
   ]
  },
  {
   "cell_type": "code",
   "execution_count": 95,
   "metadata": {},
   "outputs": [
    {
     "data": {
      "image/png": "[encoded data removed]",
      "text/plain": [
       "<matplotlib.figure.Figure at 0x143d01b00>"
      ]
     },
     "metadata": {},
     "output_type": "display_data"
    }
   ],
   "source": [
    "ax = station2_dayofweek.plot(x='DOFW', kind='bar', figsize=(20, 6), rot=0, fontsize=20);\n",
    "#ax.set(xlabel='Day of Week', ylabel='Count');\n",
    "ax.set_title('Fulton Street traffic', fontsize = 20)\n",
    "ax.set_xlabel('', fontsize = 20);\n",
    "ax.set_ylabel('Count', fontsize = 20);"
   ]
  },
  {
   "cell_type": "code",
   "execution_count": 112,
   "metadata": {},
   "outputs": [
    {
     "data": {
      "image/png": "[encoded data removed]",
      "text/plain": [
       "<matplotlib.figure.Figure at 0x1298042b0>"
      ]
     },
     "metadata": {},
     "output_type": "display_data"
    }
   ],
   "source": [
    "ax = station2_timeofday.plot(x='TIME', kind='bar', figsize=(20, 6), rot=30, fontsize=20);\n",
    "ax.set_title('Fulton Street Weekday traffic', fontsize = 20)\n",
    "ax.set_xlabel('Time of Day', fontsize = 20);\n",
    "ax.set_ylabel('Count', fontsize = 20);"
   ]
  },
  {
   "cell_type": "markdown",
   "metadata": {},
   "source": [
    "**This station has high exit count in the mornings and high entry count in the evening on weekdays. This implies it is close to a office neighborhood**"
   ]
  },
  {
   "cell_type": "code",
   "execution_count": null,
   "metadata": {},
   "outputs": [],
   "source": []
  }
 ],
 "metadata": {
  "kernelspec": {
   "display_name": "Python 3",
   "language": "python",
   "name": "python3"
  },
  "language_info": {
   "codemirror_mode": {
    "name": "ipython",
    "version": 3
   },
   "file_extension": ".py",
   "mimetype": "text/x-python",
   "name": "python",
   "nbconvert_exporter": "python",
   "pygments_lexer": "ipython3",
   "version": "3.6.4"
  },
  "toc": {
   "nav_menu": {},
   "number_sections": false,
   "sideBar": true,
   "skip_h1_title": false,
   "title_cell": "Table of Contents",
   "title_sidebar": "Contents",
   "toc_cell": false,
   "toc_position": {},
   "toc_section_display": true,
   "toc_window_display": false
  },
  "varInspector": {
   "cols": {
    "lenName": 16,
    "lenType": 16,
    "lenVar": 40
   },
   "kernels_config": {
    "python": {
     "delete_cmd_postfix": "",
     "delete_cmd_prefix": "del ",
     "library": "var_list.py",
     "varRefreshCmd": "print(var_dic_list())"
    },
    "r": {
     "delete_cmd_postfix": ") ",
     "delete_cmd_prefix": "rm(",
     "library": "var_list.r",
     "varRefreshCmd": "cat(var_dic_list()) "
    }
   },
   "position": {
    "height": "242px",
    "left": "894px",
    "right": "-8px",
    "top": "120px",
    "width": "378px"
   },
   "types_to_exclude": [
    "module",
    "function",
    "builtin_function_or_method",
    "instance",
    "_Feature"
   ],
   "window_display": false
  }
 },
 "nbformat": 4,
 "nbformat_minor": 2
}
